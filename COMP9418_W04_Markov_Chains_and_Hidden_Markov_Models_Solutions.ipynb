{
  "cells": [
    {
      "cell_type": "markdown",
      "metadata": {
        "id": "view-in-github",
        "colab_type": "text"
      },
      "source": [
        "<a href=\"https://colab.research.google.com/github/JuneY-Y/ML/blob/main/COMP9418_W04_Markov_Chains_and_Hidden_Markov_Models_Solutions.ipynb\" target=\"_parent\"><img src=\"https://colab.research.google.com/assets/colab-badge.svg\" alt=\"Open In Colab\"/></a>"
      ]
    },
    {
      "cell_type": "markdown",
      "metadata": {
        "id": "hONkgioCBz7W"
      },
      "source": [
        "[![Open In Colab](https://colab.research.google.com/assets/colab-badge.svg)](https://colab.research.google.com/github/UNSW-COMP9418/Week04/blob/main/COMP9418_W04_Markov_Chains_and_Hidden_Markov_Models_Solutions.ipynb)\n",
        "\n",
        "# Markov Chains and Hidden Markov Models\n",
        "\n",
        "**COMP9418 W04 Tutorial**\n",
        "\n",
        "- Instructor: Gustavo Batista\n",
        "- School of Computer Science and Engineering, UNSW Sydney\n",
        "- Notebook designed by Gustavo Batista and Jeremy Gillen\n",
        "- Last Update 6th September 2022"
      ]
    },
    {
      "cell_type": "markdown",
      "metadata": {
        "id": "E7zEQZgNBz7Y"
      },
      "source": [
        "In this week's tutorial, we will explore models that utilize Markovian assumptions, specifically Markov chains and Hidden Markov Models. We will implement the forward and Viterbi algorithms and use them to gain insight into the convergence of Markov chains and the probabilistic queries these algorithms can answer."
      ]
    },
    {
      "cell_type": "markdown",
      "metadata": {
        "id": "klDQdjMyBz7Y"
      },
      "source": [
        "# Technical prerequisites\n",
        "\n",
        "You will need certain packages installed to run this notebook.\n",
        "\n",
        "If you are using ``conda``'s default [full installation](https://conda.io/docs/install/full.html), these requirements should all be satisfied already.\n",
        "\n",
        "If you are using ``virtualenv`` or other native package management, you may need to run these commands:\n",
        "\n",
        "```python\n",
        "pip3 install numpy matplotlib\n",
        "```\n",
        "\n",
        "To render a visualization of some graphical models, you also need to install Graphviz [download page](http://www.graphviz.org/download). We have already used this library in the Week 0 Tutorial; thus, you should have it installed. If you do not have it and use the conda installation, then use the command ```conda install python-graphviz```."
      ]
    },
    {
      "cell_type": "markdown",
      "metadata": {
        "id": "WbrJz_bXBz7Y"
      },
      "source": [
        "Once we have done all that, we import some useful modules for later use."
      ]
    },
    {
      "cell_type": "code",
      "execution_count": 1,
      "metadata": {
        "id": "9nIqJsnPBz7Z"
      },
      "outputs": [],
      "source": [
        "# Necessary libraries\n",
        "import numpy as np\n",
        "import matplotlib.pyplot as plt\n",
        "\n",
        "from graphviz import Digraph\n",
        "# combinatorics\n",
        "from itertools import product, combinations\n",
        "\n",
        "# library for copying complex objects\n",
        "import copy\n",
        "\n",
        "# library for checking if a file exists\n",
        "import os.path"
      ]
    },
    {
      "cell_type": "code",
      "execution_count": 2,
      "metadata": {
        "id": "8iYjqbTtBz7Z",
        "outputId": "82ff8227-817f-4ee2-91d8-266959133f0c",
        "colab": {
          "base_uri": "https://localhost:8080/"
        }
      },
      "outputs": [
        {
          "output_type": "stream",
          "name": "stdout",
          "text": [
            "--2025-09-21 00:24:08--  https://raw.githubusercontent.com/UNSW-COMP9418/libraries/main/DiscreteFactors.py\n",
            "Resolving raw.githubusercontent.com (raw.githubusercontent.com)... 185.199.110.133, 185.199.109.133, 185.199.108.133, ...\n",
            "Connecting to raw.githubusercontent.com (raw.githubusercontent.com)|185.199.110.133|:443... connected.\n",
            "HTTP request sent, awaiting response... 200 OK\n",
            "Length: 7996 (7.8K) [text/plain]\n",
            "Saving to: ‘DiscreteFactors.py’\n",
            "\n",
            "\rDiscreteFactors.py    0%[                    ]       0  --.-KB/s               \rDiscreteFactors.py  100%[===================>]   7.81K  --.-KB/s    in 0s      \n",
            "\n",
            "2025-09-21 00:24:08 (70.3 MB/s) - ‘DiscreteFactors.py’ saved [7996/7996]\n",
            "\n",
            "--2025-09-21 00:24:08--  https://raw.githubusercontent.com/UNSW-COMP9418/libraries/main/Graph.py\n",
            "Resolving raw.githubusercontent.com (raw.githubusercontent.com)... 185.199.111.133, 185.199.109.133, 185.199.108.133, ...\n",
            "Connecting to raw.githubusercontent.com (raw.githubusercontent.com)|185.199.111.133|:443... connected.\n",
            "HTTP request sent, awaiting response... 200 OK\n",
            "Length: 8802 (8.6K) [text/plain]\n",
            "Saving to: ‘Graph.py’\n",
            "\n",
            "Graph.py            100%[===================>]   8.60K  --.-KB/s    in 0.001s  \n",
            "\n",
            "2025-09-21 00:24:08 (15.6 MB/s) - ‘Graph.py’ saved [8802/8802]\n",
            "\n",
            "--2025-09-21 00:24:08--  https://raw.githubusercontent.com/UNSW-COMP9418/libraries/main/BayesNet_VE.py\n",
            "Resolving raw.githubusercontent.com (raw.githubusercontent.com)... 185.199.109.133, 185.199.110.133, 185.199.111.133, ...\n",
            "Connecting to raw.githubusercontent.com (raw.githubusercontent.com)|185.199.109.133|:443... connected.\n",
            "HTTP request sent, awaiting response... 200 OK\n",
            "Length: 9387 (9.2K) [text/plain]\n",
            "Saving to: ‘BayesNet_VE.py’\n",
            "\n",
            "BayesNet_VE.py      100%[===================>]   9.17K  --.-KB/s    in 0s      \n",
            "\n",
            "2025-09-21 00:24:08 (60.5 MB/s) - ‘BayesNet_VE.py’ saved [9387/9387]\n",
            "\n"
          ]
        }
      ],
      "source": [
        "# Only run this cell if you do not want to use your libraries and\n",
        "# prefer to download our implementation from GitHub\n",
        "\n",
        "if not os.path.exists(\"DiscreteFactors.py\"):\n",
        "    !wget 'https://raw.githubusercontent.com/UNSW-COMP9418/libraries/main/DiscreteFactors.py'\n",
        "if not os.path.exists(\"Graph.py\"):\n",
        "    !wget 'https://raw.githubusercontent.com/UNSW-COMP9418/libraries/main/Graph.py'\n",
        "if not os.path.exists(\"BayesNet_VE.py\"):\n",
        "    !wget 'https://raw.githubusercontent.com/UNSW-COMP9418/libraries/main/BayesNet_VE.py'"
      ]
    },
    {
      "cell_type": "code",
      "execution_count": 3,
      "metadata": {
        "id": "5QvLWjUqBz7a"
      },
      "outputs": [],
      "source": [
        "from DiscreteFactors import Factor\n",
        "from Graph import Graph\n",
        "from BayesNet_VE import BayesNet"
      ]
    },
    {
      "cell_type": "markdown",
      "metadata": {
        "id": "ZBvRVeV_Bz7a"
      },
      "source": [
        "# Markov Chains\n",
        "\n",
        "Let's start implementing the mini-forward algorithm for Markov chains. We will use this algorithm to calculate the probability of a sequence of events and test the convergence of certain chains.\n",
        "\n",
        "Remember from the course slides that a Markov chain (as well as the Hidden Markov Model) is a Dynamic Bayesian Network (DBN). It means that this network \"grows\", i.e., we can add nodes as we iterate over time or space. We need to specify a notation to indicate the passage of time. Similarly to the slides, we use $t-1$ and $t$ appended to the variable names to designate the previous time and present time.\n",
        "\n",
        "We can use the example from the slides to introduce the notation and write the first transition tables.\n",
        "\n",
        "![](https://raw.githubusercontent.com/UNSW-COMP9418/Week04/main/img/weather.png)"
      ]
    },
    {
      "cell_type": "markdown",
      "metadata": {
        "id": "gExMCSPtBz7a"
      },
      "source": [
        "To define a Markov chain, we need to set the outcomeSpace as well as the initial state and the transition probabilities. We will write the first two and leave the third one as an exercise."
      ]
    },
    {
      "cell_type": "code",
      "execution_count": 4,
      "metadata": {
        "id": "TFxTVFbMBz7a"
      },
      "outputs": [],
      "source": [
        "# possible outcomes, by variable\n",
        "outcomeSpace = {\n",
        "    'Weather':('sun','rain'),\n",
        "    'Weather_next':('sun','rain'),\n",
        "}\n",
        "\n",
        "# The start state, in this case let's assume we start in a sunny day\n",
        "weatherStart = Factor(('Weather',), outcomeSpace)\n",
        "weatherStart['sun'] = 1.0\n",
        "weatherStart['rain'] = 0.0"
      ]
    },
    {
      "cell_type": "markdown",
      "metadata": {
        "id": "NrLn5eulBz7b"
      },
      "source": [
        "## Exercise\n",
        "\n",
        "Now, it is your turn. Define the transition probability table according to the figure above. We have created an initial table for you."
      ]
    },
    {
      "cell_type": "code",
      "execution_count": 6,
      "metadata": {
        "id": "AJIkpqUbBz7b"
      },
      "outputs": [],
      "source": [
        "# Answer\n",
        "\n",
        "weatherTransition = Factor(('Weather', 'Weather_next'), outcomeSpace)\n",
        "weatherTransition['sun', 'sun'] = 0.9\n",
        "weatherTransition['sun', 'rain'] = 0.1\n",
        "weatherTransition['rain', 'sun'] = 0.3\n",
        "weatherTransition['rain', 'rain'] = 0.7"
      ]
    },
    {
      "cell_type": "markdown",
      "metadata": {
        "id": "J4FuQdjUBz7b"
      },
      "source": [
        "We can double-check our work with the `graphviz` library. The source code below draws a state transition graph based on the `weatherTransition` table that you just defined. Compare the `graphviz` plot with the slide figure to confirm your state transition probabilities are correct."
      ]
    },
    {
      "cell_type": "code",
      "execution_count": 7,
      "metadata": {
        "id": "7ToeBfQoBz7b",
        "outputId": "3185a67e-405b-4bb5-d29a-ac0f4cd5d57a",
        "colab": {
          "base_uri": "https://localhost:8080/",
          "height": 138
        }
      },
      "outputs": [
        {
          "output_type": "execute_result",
          "data": {
            "image/svg+xml": "<?xml version=\"1.0\" encoding=\"UTF-8\" standalone=\"no\"?>\n<!DOCTYPE svg PUBLIC \"-//W3C//DTD SVG 1.1//EN\"\n \"http://www.w3.org/Graphics/SVG/1.1/DTD/svg11.dtd\">\n<!-- Generated by graphviz version 2.43.0 (0)\n -->\n<!-- Title: %3 Pages: 1 -->\n<svg width=\"142pt\" height=\"88pt\"\n viewBox=\"0.00 0.00 142.00 88.00\" xmlns=\"http://www.w3.org/2000/svg\" xmlns:xlink=\"http://www.w3.org/1999/xlink\">\n<g id=\"graph0\" class=\"graph\" transform=\"scale(1 1) rotate(0) translate(4 84)\">\n<title>%3</title>\n<polygon fill=\"white\" stroke=\"transparent\" points=\"-4,4 -4,-84 138,-84 138,4 -4,4\"/>\n<!-- sun -->\n<g id=\"node1\" class=\"node\">\n<title>sun</title>\n<ellipse fill=\"none\" stroke=\"black\" cx=\"71\" cy=\"-62\" rx=\"27\" ry=\"18\"/>\n<text text-anchor=\"middle\" x=\"71\" y=\"-58.3\" font-family=\"Times,serif\" font-size=\"14.00\">sun</text>\n</g>\n<!-- sun&#45;&gt;sun -->\n<g id=\"edge1\" class=\"edge\">\n<title>sun&#45;&gt;sun</title>\n<path fill=\"none\" stroke=\"black\" d=\"M96.45,-68.7C107.03,-69.16 116,-66.93 116,-62 116,-58.77 112.14,-56.7 106.49,-55.79\"/>\n<polygon fill=\"black\" stroke=\"black\" points=\"106.6,-52.29 96.45,-55.31 106.27,-59.29 106.6,-52.29\"/>\n<text text-anchor=\"middle\" x=\"125\" y=\"-58.3\" font-family=\"Times,serif\" font-size=\"14.00\">0.9</text>\n</g>\n<!-- rain -->\n<g id=\"node2\" class=\"node\">\n<title>rain</title>\n<ellipse fill=\"none\" stroke=\"black\" cx=\"27\" cy=\"-18\" rx=\"27\" ry=\"18\"/>\n<text text-anchor=\"middle\" x=\"27\" y=\"-14.3\" font-family=\"Times,serif\" font-size=\"14.00\">rain</text>\n</g>\n<!-- sun&#45;&gt;rain -->\n<g id=\"edge2\" class=\"edge\">\n<title>sun&#45;&gt;rain</title>\n<path fill=\"none\" stroke=\"black\" d=\"M62.44,-44.64C60.31,-42.11 57.93,-39.49 55.45,-36.92\"/>\n<polygon fill=\"black\" stroke=\"black\" points=\"57.4,-33.95 47.77,-29.53 52.54,-38.99 57.4,-33.95\"/>\n<text text-anchor=\"middle\" x=\"67.94\" y=\"-29.58\" font-family=\"Times,serif\" font-size=\"14.00\">0.1</text>\n</g>\n<!-- rain&#45;&gt;sun -->\n<g id=\"edge3\" class=\"edge\">\n<title>rain&#45;&gt;sun</title>\n<path fill=\"none\" stroke=\"black\" d=\"M35.57,-35.36C37.7,-37.9 40.07,-40.52 42.56,-43.08\"/>\n<polygon fill=\"black\" stroke=\"black\" points=\"40.6,-46.06 50.23,-50.47 45.46,-41.01 40.6,-46.06\"/>\n<text text-anchor=\"middle\" x=\"30.06\" y=\"-43.02\" font-family=\"Times,serif\" font-size=\"14.00\">0.3</text>\n</g>\n<!-- rain&#45;&gt;rain -->\n<g id=\"edge4\" class=\"edge\">\n<title>rain&#45;&gt;rain</title>\n<path fill=\"none\" stroke=\"black\" d=\"M52.44,-24.69C63.03,-25.15 72,-22.92 72,-18 72,-14.77 68.14,-12.7 62.49,-11.79\"/>\n<polygon fill=\"black\" stroke=\"black\" points=\"62.6,-8.29 52.44,-11.31 62.27,-15.28 62.6,-8.29\"/>\n<text text-anchor=\"middle\" x=\"81\" y=\"-14.3\" font-family=\"Times,serif\" font-size=\"14.00\">0.7</text>\n</g>\n</g>\n</svg>\n",
            "text/plain": [
              "<graphviz.graphs.Digraph at 0x7ecb61431af0>"
            ]
          },
          "metadata": {},
          "execution_count": 7
        }
      ],
      "source": [
        "dot = Digraph(engine=\"neato\", comment='Weather Markov chain')\n",
        "dot.attr(overlap=\"false\", splines=\"false\")\n",
        "\n",
        "pos = {\n",
        "    'sun': '1,1!',\n",
        "    'rain': '0,0!',\n",
        "}\n",
        "\n",
        "for v in outcomeSpace['Weather']:\n",
        "    dot.node(v, pos=pos[v])\n",
        "\n",
        "for v in outcomeSpace['Weather']:\n",
        "    for w in outcomeSpace['Weather']:\n",
        "        dot.edge(v, w, str(weatherTransition[v,w]))\n",
        "\n",
        "dot"
      ]
    },
    {
      "cell_type": "markdown",
      "metadata": {
        "id": "XYRPEnzmBz7b"
      },
      "source": [
        "We can now implement the mini-forward algorithm for Markov chains. Remember from the slides that the update rule for the forward simulation is the following:\n",
        "\n",
        "$P(x_t) = \\sum_{x_{t-1}}P(x_t | x_{t-1})P(x_{t-1})$\n",
        "\n",
        "- $P(x_{t-1})$ is the previous state probability table.\n",
        "\n",
        "- $P(x_t | x_{t-1})$ is the transition probability table such as the one you defined in the previous exercise.\n",
        "\n",
        "- $P(x_t)$ is the current state probability table.\n",
        "\n",
        "From this equation, it is clear that we need two basic operations. One is the multiplication of factors (probability tables) that we implemented in a previous tutorial as a `joint` operation. The second one sums one variable out that we implemented as a `marginalize` operation."
      ]
    },
    {
      "cell_type": "markdown",
      "metadata": {
        "id": "bBsAhp7pBz7b"
      },
      "source": [
        "## Exercise\n",
        "\n",
        "Let's implement the mini-Forward algorithm for Markov chains. We start with the online version that makes a single update (one time step). We use the online version to implement batch one, which runs multiple time steps."
      ]
    },
    {
      "cell_type": "code",
      "execution_count": 8,
      "metadata": {
        "id": "w19TlRHsBz7c",
        "outputId": "8db291bb-db63-4023-cb8c-f96f8fe234b9",
        "colab": {
          "base_uri": "https://localhost:8080/"
        }
      },
      "outputs": [
        {
          "output_type": "stream",
          "name": "stdout",
          "text": [
            "╒═══════════╤══════╕\n",
            "│ Weather   │   Pr │\n",
            "╞═══════════╪══════╡\n",
            "│ sun       │  0.9 │\n",
            "├───────────┼──────┤\n",
            "│ rain      │  0.1 │\n",
            "╘═══════════╧══════╛\n",
            "\n"
          ]
        }
      ],
      "source": [
        "# Answer\n",
        "\n",
        "class MarkovModel():\n",
        "    def __init__(self, start_state, transition, variable_remap):\n",
        "        '''\n",
        "        Takes 3 arguments:\n",
        "        - start_state: a factor representing the start state. E.g. domain might be ('A', 'B', 'C')\n",
        "        - transition: a factor that represents the transition probs. E.g. P('A_next', 'B_next', 'C_next' | 'A', 'B', 'C')\n",
        "        - variable_remap: a dictionary that maps new variable names to old variable names,\n",
        "                          to reset the state after transition. E.g. {'A_next':'A', 'B_next':'B', 'C_next':'C'}\n",
        "        '''\n",
        "        self.state = start_state\n",
        "        self.transition = transition\n",
        "        self.remap = variable_remap\n",
        "\n",
        "    def forward(self):\n",
        "        # get state vars (to be marginalized later)\n",
        "        state_vars = self.state.domain\n",
        "        # join with transition factor\n",
        "        f = self.state*self.transition\n",
        "        # marginalize out old state vars, leaving only new state vars\n",
        "        for var in state_vars:\n",
        "            f = f.marginalize(var)\n",
        "        # remap variables to their original names\n",
        "        f.domain = tuple(self.remap[var] for var in f.domain)\n",
        "        self.state = f\n",
        "        return self.state\n",
        "\n",
        "\n",
        "##################\n",
        "# Test code\n",
        "\n",
        "variable_remap = {\n",
        "    \"Weather_next\": \"Weather\"\n",
        "}\n",
        "mm = MarkovModel(weatherStart, weatherTransition, variable_remap)\n",
        "\n",
        "print(mm.forward())"
      ]
    },
    {
      "cell_type": "markdown",
      "metadata": {
        "id": "9ISwc3RmBz7c"
      },
      "source": [
        "If your implementation is correct, you should have the following output:\n",
        "\n",
        "```\n",
        "╒═══════════╤══════╕\n",
        "│ Weather   │   Pr │\n",
        "╞═══════════╪══════╡\n",
        "│ sun       │  0.9 │\n",
        "├───────────┼──────┤\n",
        "│ rain      │  0.1 │\n",
        "╘═══════════╧══════╛\n",
        "```"
      ]
    },
    {
      "cell_type": "markdown",
      "metadata": {
        "id": "AmSzhYDcBz7c"
      },
      "source": [
        "We can utilise the mini-forward online implementation to create a simple batch extension that invokes the online subroutine a fixed number of times.\n",
        "\n",
        "## Exercise\n",
        "\n",
        "Implement the batch version of the mini-forward algorithm for Markov chains"
      ]
    },
    {
      "cell_type": "code",
      "execution_count": 9,
      "metadata": {
        "id": "cNnuPizsBz7c",
        "outputId": "10f9277c-96e8-44c2-80a9-341650b36467",
        "colab": {
          "base_uri": "https://localhost:8080/"
        }
      },
      "outputs": [
        {
          "output_type": "stream",
          "name": "stdout",
          "text": [
            "╒═══════════╤══════╕\n",
            "│ Weather   │   Pr │\n",
            "╞═══════════╪══════╡\n",
            "│ sun       │  0.9 │\n",
            "├───────────┼──────┤\n",
            "│ rain      │  0.1 │\n",
            "╘═══════════╧══════╛\n",
            "\n",
            "╒═══════════╤══════╕\n",
            "│ Weather   │   Pr │\n",
            "╞═══════════╪══════╡\n",
            "│ sun       │ 0.84 │\n",
            "├───────────┼──────┤\n",
            "│ rain      │ 0.16 │\n",
            "╘═══════════╧══════╛\n",
            "\n",
            "╒═══════════╤═══════╕\n",
            "│ Weather   │    Pr │\n",
            "╞═══════════╪═══════╡\n",
            "│ sun       │ 0.804 │\n",
            "├───────────┼───────┤\n",
            "│ rain      │ 0.196 │\n",
            "╘═══════════╧═══════╛\n",
            "\n"
          ]
        }
      ],
      "source": [
        "# Answer\n",
        "\n",
        "class MarkovModel(MarkovModel):\n",
        "    def forwardBatch(self, n):\n",
        "        ''' Do `n` steps, and return history list of states '''\n",
        "        history = []\n",
        "        for i in range(n):\n",
        "            state = self.forward()\n",
        "            history.append(state)\n",
        "        return history\n",
        "\n",
        "\n",
        "##################\n",
        "# Test code\n",
        "\n",
        "variable_remap = {\n",
        "    \"Weather_next\": \"Weather\"\n",
        "}\n",
        "mm = MarkovModel(weatherStart, weatherTransition, variable_remap)\n",
        "\n",
        "history = mm.forwardBatch(3)\n",
        "for factor in history:\n",
        "    print(factor)"
      ]
    },
    {
      "cell_type": "markdown",
      "metadata": {
        "id": "zmetT6LVBz7c"
      },
      "source": [
        "If you implemented your code correctly, you should see the following output:\n",
        "\n",
        "```\n",
        "╒═══════════╤══════╕\n",
        "│ Weather   │   Pr │\n",
        "╞═══════════╪══════╡\n",
        "│ sun       │  0.9 │\n",
        "├───────────┼──────┤\n",
        "│ rain      │  0.1 │\n",
        "╘═══════════╧══════╛\n",
        "\n",
        "╒═══════════╤══════╕\n",
        "│ Weather   │   Pr │\n",
        "╞═══════════╪══════╡\n",
        "│ sun       │ 0.84 │\n",
        "├───────────┼──────┤\n",
        "│ rain      │ 0.16 │\n",
        "╘═══════════╧══════╛\n",
        "\n",
        "╒═══════════╤═══════╕\n",
        "│ Weather   │    Pr │\n",
        "╞═══════════╪═══════╡\n",
        "│ sun       │ 0.804 │\n",
        "├───────────┼───────┤\n",
        "│ rain      │ 0.196 │\n",
        "╘═══════════╧═══════╛\n",
        "\n",
        "```"
      ]
    },
    {
      "cell_type": "markdown",
      "metadata": {
        "id": "xNGeT8Z_Bz7c"
      },
      "source": [
        "We will now test the convergence of some Markov chains. Remember from the lectures that chains were classified according to two properties:\n",
        "\n",
        "1. Reducibility. An irreducible (or regular) chain has the property that every state is reachable from every state. Therefore, the chain has a single stationary distribution. A reducible chain does not have this property and, therefore, can have multiple stationary distributions. The general idea is that, if a chain has, say, two disconnected sets of states **A** and **B**, and we start in a state $a \\in \\textbf{A}$, then we will never reach a state in **B**. In this case, the stationary distribution will depend on the transition probabilities of the states in **A**. The same occurs if we start in a state $b \\in \\textbf{B}$.\n",
        "\n",
        "2. Periodicity. An irreducible chain is not guaranteed to converge. To ensure convergence, we need an additional property: aperiodicity. An aperiodic chain avoids alternating forever between states without ever settling in a stationary distribution. A practical issue in that, although irreducible aperiodic chains are guaranteed to converge to a single stationary distribution, the convergence can be very slow, depending on the transition probabilities."
      ]
    },
    {
      "cell_type": "markdown",
      "metadata": {
        "id": "xNLaCwJVBz7c"
      },
      "source": [
        "## Exercise\n",
        "\n",
        "Let's implement an additional method, `forwardUntilConvergence`, that runs until convergence or a maximum number of iterations. We will establish convergence when the error between two consecutive state probability distributions is smaller than a threshold.\n",
        "\n",
        "Let's start with the implementation of `forwardUntilConvergence`. We implemented a helper function `factorError` that computes the absolute error between two factors. The error can be thought of as a measure of distance between two factors."
      ]
    },
    {
      "cell_type": "code",
      "execution_count": 10,
      "metadata": {
        "id": "wLNr-SQTBz7d",
        "outputId": "86f1e9f5-0cbb-4364-c912-153106dd9a20",
        "colab": {
          "base_uri": "https://localhost:8080/",
          "height": 573
        }
      },
      "outputs": [
        {
          "output_type": "stream",
          "name": "stdout",
          "text": [
            "╒═══════════╤══════════╕\n",
            "│ Weather   │       Pr │\n",
            "╞═══════════╪══════════╡\n",
            "│ sun       │ 0.750001 │\n",
            "├───────────┼──────────┤\n",
            "│ rain      │ 0.249999 │\n",
            "╘═══════════╧══════════╛\n",
            "\n"
          ]
        },
        {
          "output_type": "display_data",
          "data": {
            "text/plain": [
              "<Figure size 640x480 with 1 Axes>"
            ],
            "image/png": "[encoded data removed]"
          },
          "metadata": {}
        }
      ],
      "source": [
        "# Answer\n",
        "\n",
        "def factorError(f1, f2):\n",
        "    \"\"\"\n",
        "    argument\n",
        "    `f1`, factor with the current state probability distribution in the chain.\n",
        "    `f2`, factor with the previous state probability distribution in the chain.\n",
        "\n",
        "    Returns absolute error between f1 and f2.\n",
        "    \"\"\"\n",
        "    assert f1.domain == f2.domain\n",
        "    return np.sum(np.abs(f1.table - f2.table))\n",
        "\n",
        "class MarkovModel(MarkovModel):\n",
        "    def forwardUntilConvergence(self, max_iters=1000, eps=0.000001):\n",
        "        '''\n",
        "        Arguments:\n",
        "        `n`, maximum number of time updates.\n",
        "        `eps`, error threshold to determine convergence.\n",
        "        Returns:\n",
        "        A history of error values\n",
        "        A factor that represents the current state of the chain after n time steps or the convergence error is less than eps.\n",
        "        '''\n",
        "        errors = []\n",
        "        prevState = self.state\n",
        "        for i in range(max_iters):\n",
        "            newState = self.forward()\n",
        "            error = factorError(prevState, newState)\n",
        "            if error < eps:\n",
        "                break\n",
        "            errors.append(error)\n",
        "            prevState = newState\n",
        "        return errors, newState\n",
        "\n",
        "##################\n",
        "# Test code\n",
        "\n",
        "variable_remap = {\n",
        "    \"Weather_next\": \"Weather\"\n",
        "}\n",
        "mm = MarkovModel(weatherStart, weatherTransition, variable_remap)\n",
        "errors, state = mm.forwardUntilConvergence()\n",
        "print(state)\n",
        "plt.plot(errors, 'ro')\n",
        "plt.show()"
      ]
    },
    {
      "cell_type": "markdown",
      "metadata": {
        "id": "Al5dl9qJBz7d"
      },
      "source": [
        "If you implemented your code correctly, you should see an output like this:\n",
        "\n",
        "```\n",
        "╒═══════════╤══════════╕\n",
        "│ Weather   │       Pr │\n",
        "╞═══════════╪══════════╡\n",
        "│ sun       │ 0.750001 │\n",
        "├───────────┼──────────┤\n",
        "│ rain      │ 0.249999 │\n",
        "╘═══════════╧══════════╛\n",
        "```\n",
        "\n",
        "## Exercise\n",
        "\n",
        "Now, we can test the convergence of some Markov chains from the previous tutorial.\n",
        "\n",
        "The first one has the following transition matrix:\n",
        "\n",
        "$\\begin{bmatrix}\n",
        "0 & 1 & 0 & 0 \\\\\n",
        "1/2 & 0 & 1/2 & 0 \\\\\n",
        "0 & 1/2 & 0 & 1/2 \\\\\n",
        "0 & 0 & 1 & 0 \\\\\n",
        "\\end{bmatrix}$\n",
        "    \n",
        "This chain is irreducible since we can reach any state from any state. However, it is periodic since if we start from state 1 in time 1, we reach states 1 and 3 at odd times and 2 and 4 at even times. Its stationary distribution is $(1/6, 2/6, 2/6, 1/6)$.\n",
        "\n",
        "Use the implemented function to confirm that this chain does not converge. Use the next cell to define the necessary variables and call the `forwardUntilConvergence` function."
      ]
    },
    {
      "cell_type": "code",
      "execution_count": 11,
      "metadata": {
        "id": "ULIBBFK4Bz7d",
        "outputId": "e1c49cd2-6b91-436d-9e9b-ac146509b222",
        "colab": {
          "base_uri": "https://localhost:8080/",
          "height": 644
        }
      },
      "outputs": [
        {
          "output_type": "stream",
          "name": "stdout",
          "text": [
            "╒═════╤══════════╕\n",
            "│   R │       Pr │\n",
            "╞═════╪══════════╡\n",
            "│   0 │ 0.333333 │\n",
            "├─────┼──────────┤\n",
            "│   1 │ 0        │\n",
            "├─────┼──────────┤\n",
            "│   2 │ 0.666667 │\n",
            "├─────┼──────────┤\n",
            "│   3 │ 0        │\n",
            "╘═════╧══════════╛\n",
            "\n"
          ]
        },
        {
          "output_type": "display_data",
          "data": {
            "text/plain": [
              "<Figure size 640x480 with 1 Axes>"
            ],
            "image/png": "[encoded data removed]"
          },
          "metadata": {}
        }
      ],
      "source": [
        "# Answer\n",
        "\n",
        "outcomeSpace_c1 = {\n",
        "    'R':(0,1,2,3),\n",
        "    'R_next':(0,1,2,3),\n",
        "}\n",
        "\n",
        "t = Factor(('R', 'R_next'), outcomeSpace_c1)\n",
        "t[0, 0] = 0.0\n",
        "t[0, 1] = 1.0\n",
        "t[0, 2] = 0.0\n",
        "t[0, 3] = 0.0\n",
        "t[1, 0] = 0.5\n",
        "t[1, 1] = 0.0\n",
        "t[1, 2] = 0.5\n",
        "t[1, 3] = 0.0\n",
        "t[2, 0] = 0.0\n",
        "t[2, 1] = 0.5\n",
        "t[2, 2] = 0.0\n",
        "t[2, 3] = 0.5\n",
        "t[3, 0] = 0.0\n",
        "t[3, 1] = 0.0\n",
        "t[3, 2] = 1.0\n",
        "t[3, 3] = 0.0\n",
        "\n",
        "s = Factor(('R',), outcomeSpace_c1)\n",
        "s[0] = 1.0\n",
        "s[1] = 0.0\n",
        "s[2] = 0.0\n",
        "s[3] = 0.0\n",
        "\n",
        "\n",
        "##################\n",
        "# Test code\n",
        "\n",
        "variable_remap = {\n",
        "    \"R_next\": \"R\"\n",
        "}\n",
        "mm = MarkovModel(s, t, variable_remap)\n",
        "errors, state = mm.forwardUntilConvergence()\n",
        "print(state)\n",
        "plt.plot(errors, 'ro')\n",
        "plt.show()"
      ]
    },
    {
      "cell_type": "markdown",
      "metadata": {
        "id": "FOthAp1mBz7d"
      },
      "source": [
        "The second one has the following transition matrix:\n",
        "\n",
        "$\\begin{bmatrix}\n",
        "1/2 & 1/2 & 0 & 0 \\\\\n",
        "1/2 & 0 & 1/2 & 0 \\\\\n",
        "0 & 1/2 & 0 & 1/2 \\\\\n",
        "0 & 0 & 0 & 1 \\\\\n",
        "\\end{bmatrix}$\n",
        "    \n",
        "This chain is reducible since state 4 is absorbing (once entered, cannot be left) and aperiodic. Its stationary distribution is $(0, 0, 0, 1)$.\n",
        "\n",
        "Use the implemented function to verify the convergence of this chain. Use the next cell to define the necessary variables and call the `forwardUntilConvergence` function."
      ]
    },
    {
      "cell_type": "code",
      "execution_count": 12,
      "metadata": {
        "id": "5GY8CKRtBz7d",
        "outputId": "041ebb95-f787-409b-e4ab-033f7aa3d598",
        "colab": {
          "base_uri": "https://localhost:8080/",
          "height": 644
        }
      },
      "outputs": [
        {
          "output_type": "stream",
          "name": "stdout",
          "text": [
            "╒═════╤═════════════╕\n",
            "│   R │          Pr │\n",
            "╞═════╪═════════════╡\n",
            "│   0 │ 1.99564e-06 │\n",
            "├─────┼─────────────┤\n",
            "│   1 │ 1.60038e-06 │\n",
            "├─────┼─────────────┤\n",
            "│   2 │ 8.88141e-07 │\n",
            "├─────┼─────────────┤\n",
            "│   3 │ 0.999996    │\n",
            "╘═════╧═════════════╛\n",
            "\n"
          ]
        },
        {
          "output_type": "display_data",
          "data": {
            "text/plain": [
              "<Figure size 640x480 with 1 Axes>"
            ],
            "image/png": "[encoded data removed]"
          },
          "metadata": {}
        }
      ],
      "source": [
        "# Answer\n",
        "\n",
        "outcomeSpace_c2 = {\n",
        "    'R':(0,1,2,3),\n",
        "    'R_next':(0,1,2,3),\n",
        "}\n",
        "\n",
        "t = Factor(('R', 'R_next'), outcomeSpace_c2)\n",
        "# We can set the values in the factor in a different way by directly setting the table\n",
        "# This is quicker, but you have to be careful that the domain is in the right order\n",
        "t.table = np.array(\n",
        "    [\n",
        "     [.5, .5, 0, 0],\n",
        "     [.5, 0, .5, 0],\n",
        "     [0, .5, 0, .5],\n",
        "     [0, 0, 0, 1]\n",
        "    ]\n",
        ")\n",
        "\n",
        "s = Factor(('R',), outcomeSpace_c2)\n",
        "s.table = np.array(\n",
        "    [1,0,0,0]\n",
        ")\n",
        "\n",
        "##################\n",
        "# Test code\n",
        "\n",
        "variable_remap = {\n",
        "    \"R_next\": \"R\"\n",
        "}\n",
        "mm = MarkovModel(s, t, variable_remap)\n",
        "errors, state = mm.forwardUntilConvergence()\n",
        "print(state)\n",
        "plt.plot(errors, 'ro')\n",
        "plt.show()"
      ]
    },
    {
      "cell_type": "markdown",
      "metadata": {
        "id": "Gp4wxNvpBz7d"
      },
      "source": [
        "The third one has the following transition matrix:\n",
        "\n",
        "$\\begin{bmatrix}\n",
        "1/2 & 1/2 & 0 & 0 \\\\\n",
        "1/2 & 1/2 & 0 & 0 \\\\\n",
        "0 & 0 & 1/2 & 1/2 \\\\\n",
        "0 & 0 & 1/2 & 1/2 \\\\\n",
        "\\end{bmatrix}$\n",
        "    \n",
        "This chain is reducible since we cannot reach states {3,4} from states {1,2} and vice versa, and it is aperiodic. It has two stationary distributions: $(1/2, 1/2, 0, 0)$ and $(0, 0, 1/2, 1/2)$.\n",
        "\n",
        "Use the implemented function to verify the convergence of this chain. Use the next cell to define the necessary variables and call the `forwardUntilConvergence` function."
      ]
    },
    {
      "cell_type": "code",
      "execution_count": 13,
      "metadata": {
        "id": "kZExScqNBz7d",
        "outputId": "8f9f0036-b0d5-448f-c224-e1ff58e18288",
        "colab": {
          "base_uri": "https://localhost:8080/",
          "height": 644
        }
      },
      "outputs": [
        {
          "output_type": "stream",
          "name": "stdout",
          "text": [
            "╒═════╤══════╕\n",
            "│   R │   Pr │\n",
            "╞═════╪══════╡\n",
            "│   0 │  0.5 │\n",
            "├─────┼──────┤\n",
            "│   1 │  0.5 │\n",
            "├─────┼──────┤\n",
            "│   2 │  0   │\n",
            "├─────┼──────┤\n",
            "│   3 │  0   │\n",
            "╘═════╧══════╛\n",
            "\n"
          ]
        },
        {
          "output_type": "display_data",
          "data": {
            "text/plain": [
              "<Figure size 640x480 with 1 Axes>"
            ],
            "image/png": "[encoded data removed]"
          },
          "metadata": {}
        }
      ],
      "source": [
        "# Answer\n",
        "\n",
        "outcomeSpace_c3 = {\n",
        "    'R':(0,1,2,3),\n",
        "    'R_next':(0,1,2,3),\n",
        "}\n",
        "\n",
        "t = Factor(('R', 'R_next'), outcomeSpace_c3)\n",
        "t.table = np.array(\n",
        "    [[.5, .5, 0, 0],\n",
        "     [.5, .5, 0, 0],\n",
        "     [0, 0, .5, .5],\n",
        "     [0, 0, .5, .5]]\n",
        ")\n",
        "\n",
        "s = Factor(('R',), outcomeSpace_c3)\n",
        "s.table = np.array(\n",
        "    [1,0,0,0]\n",
        ")\n",
        "\n",
        "##################\n",
        "# Test code\n",
        "\n",
        "variable_remap = {\n",
        "    \"R_next\": \"R\"\n",
        "}\n",
        "mm = MarkovModel(s, t, variable_remap)\n",
        "errors, state = mm.forwardUntilConvergence()\n",
        "print(state)\n",
        "plt.plot(errors, 'ro')\n",
        "plt.show()"
      ]
    },
    {
      "cell_type": "markdown",
      "metadata": {
        "id": "4aTSsx4uBz7e"
      },
      "source": [
        "Finally, we have a chain in the form:\n",
        "\n",
        "$\\begin{bmatrix}\n",
        "1-e & e \\\\\n",
        "e & 1-e \\\\\n",
        "\\end{bmatrix}$\n",
        "    \n",
        "This chain is irreducible and aperiodic, but its convergence can be very slow for small values of $e$. It has one stationary distribution: $(1/2, 1/2)$.\n",
        "\n",
        "Use the implemented function to verify the convergence of the chain. Change the value of $e$. Use the next cell to define the necessary variables and call the `forwardUntilConvergence` function."
      ]
    },
    {
      "cell_type": "code",
      "execution_count": 14,
      "metadata": {
        "id": "wQhU3cTFBz7i",
        "outputId": "c9cae4cc-156c-46fa-9d0c-d2a5f086e948",
        "colab": {
          "base_uri": "https://localhost:8080/",
          "height": 573
        }
      },
      "outputs": [
        {
          "output_type": "stream",
          "name": "stdout",
          "text": [
            "╒═════╤═══════════╕\n",
            "│   R │        Pr │\n",
            "╞═════╪═══════════╡\n",
            "│   0 │ 0.909357  │\n",
            "├─────┼───────────┤\n",
            "│   1 │ 0.0906428 │\n",
            "╘═════╧═══════════╛\n",
            "\n"
          ]
        },
        {
          "output_type": "display_data",
          "data": {
            "text/plain": [
              "<Figure size 640x480 with 1 Axes>"
            ],
            "image/png": "[encoded data removed]"
          },
          "metadata": {}
        }
      ],
      "source": [
        "# Answer\n",
        "\n",
        "e = 0.0001\n",
        "\n",
        "outcomeSpace_c4 = {\n",
        "    'R':(0,1),\n",
        "    'R_next':(0,1),\n",
        "}\n",
        "\n",
        "t = Factor(('R', 'R_next'), outcomeSpace_c4)\n",
        "t.table = np.array(\n",
        "    [[1-e, e],\n",
        "     [e, 1-e]]\n",
        ")\n",
        "\n",
        "s = Factor(('R',), outcomeSpace_c4)\n",
        "s.table = np.array(\n",
        "    [1,0]\n",
        ")\n",
        "\n",
        "##################\n",
        "# Test code\n",
        "\n",
        "variable_remap = {\n",
        "    \"R_next\": \"R\"\n",
        "}\n",
        "mm = MarkovModel(s, t, variable_remap)\n",
        "errors, state = mm.forwardUntilConvergence()\n",
        "print(state)\n",
        "plt.plot(errors, 'ro')\n",
        "plt.show()"
      ]
    },
    {
      "cell_type": "markdown",
      "metadata": {
        "id": "QKjWGHIqBz7i"
      },
      "source": [
        "\n",
        "# PageRank algorithm\n",
        "\n",
        "The PageRank algorithm is the original algorithm used by Google's 1.0 version. It can be interpreted as a direct application of Markov chains.\n",
        "\n",
        "PageRank models the web as a state graph, where pages are states and hyperlinks represent transitions. The transition probabilities are set as follows:\n",
        "\n",
        "Imagine you are surfing the web.\n",
        "* With 85% probability, you will jump to the following website by randomly selecting from the links on that page.\n",
        "* With 15% probability, you will jump randomly to any random page on the graph.\n",
        "* If you are on a page with no links, you will always jump to a random page on the graph.\n",
        "\n",
        "Using these transition probabilities, the PageRank algorithm estimates the stationary distribution over webpages and uses the probabilities of this distribution as an estimate of the \"popularity\" of every webpage.\n",
        "\n",
        "The following figure from [Wikipedia](https://en.wikipedia.org/wiki/PageRank) illustrates the final probabilities (in percentages) of PageRank for a small graph.\n",
        "\n",
        "![](https://raw.githubusercontent.com/UNSW-COMP9418/Week04/main/img/page_rank.png)"
      ]
    },
    {
      "cell_type": "markdown",
      "metadata": {
        "id": "hpj_3GN3Bz7i"
      },
      "source": [
        "Let's use the mini-forward algorithm to implement the PageRank algorithm. We will use this figure to check our results. We start by defining this graph. We will do it for you."
      ]
    },
    {
      "cell_type": "code",
      "execution_count": 16,
      "metadata": {
        "id": "b6bqSr96Bz7i"
      },
      "outputs": [],
      "source": [
        "# alpha sets the weight portion reserved for regular edges\n",
        "alpha = .85\n",
        "\n",
        "outcomePageRank = {\n",
        "    \"P\":('A','B','C','D','E','F','G','H','I','J','K'),\n",
        "    \"P_next\":('A','B','C','D','E','F','G','H','I','J','K'),\n",
        "}\n",
        "\n",
        "page_graph = Graph({\n",
        "    \"A\" : [],\n",
        "    'B' : ['C'],\n",
        "    'C' : ['B'],\n",
        "    'D' : ['B','A'],\n",
        "    'E' : ['B','D','F'],\n",
        "    'F' : ['B','E'],\n",
        "    'G' : ['B','E'],\n",
        "    'H' : ['B','E'],\n",
        "    'I' : ['B','E'],\n",
        "    'J' : ['E'],\n",
        "    'K' : ['E'],\n",
        "})"
      ]
    },
    {
      "cell_type": "markdown",
      "metadata": {
        "id": "eQcukiSSBz7i"
      },
      "source": [
        "## Exercise\n",
        "\n",
        "Fill in the function below to create a transition table according to the rules above."
      ]
    },
    {
      "cell_type": "code",
      "execution_count": null,
      "metadata": {
        "id": "V07JtyApBz7i"
      },
      "outputs": [],
      "source": [
        "def createTransitionTable(graph, outcomePageRank, alpha=0.85):\n",
        "    N = len(graph)\n",
        "    phantomTransition = Factor(('P', 'P_next'), outcomePageRank)\n",
        "\n",
        "    # for every pair of nodes in the graph\n",
        "    for u in outcomePageRank['P']:\n",
        "        for v in outcomePageRank['P_next']:\n",
        "            # find the number of outgoing links\n",
        "            out_degree = len(graph.children(u))\n",
        "            if out_degree == 0:\n",
        "                # starting at a node 'u' with no neighbors, what's the probability of jumping to v?\n",
        "                prob_v_given_u = ... # TODO\n",
        "            else:\n",
        "                if v in graph.children(u):\n",
        "                    # starting at 'u', the probability of jumping to a connected node 'v'.\n",
        "                    # (Make sure you take into account the 15% possibility of randomly jumping to any node)\n",
        "                    prob_v_given_u = ... # TODO\n",
        "                else:\n",
        "                    # starting at 'u', the probability of jumping to a random node 'v'\n",
        "                    prob_v_given_u = ... # TODO\n",
        "            phantomTransition[u,v] = prob_v_given_u\n",
        "    return phantomTransition\n",
        "\n",
        "pageRankTransition = createTransitionTable(page_graph, outcomePageRank)\n",
        "print(pageRankTransition)"
      ]
    },
    {
      "cell_type": "code",
      "execution_count": null,
      "metadata": {
        "id": "oJMGaAtGBz7j"
      },
      "outputs": [],
      "source": [
        "# Answer\n",
        "\n",
        "def createTransitionTable(graph, outcomePageRank, alpha=0.85):\n",
        "    N = len(graph)\n",
        "    phantomTransition = Factor(('P', 'P_next'), outcomePageRank)\n",
        "\n",
        "    # for every pair of nodes in the graph\n",
        "    for u in outcomePageRank['P']:\n",
        "        for v in outcomePageRank['P_next']:\n",
        "            # find the number of outgoing links\n",
        "            out_degree = len(graph.children(u))\n",
        "            if out_degree == 0:\n",
        "                # starting at a node 'u' with no neighbors, what's the probability of jumping to v?\n",
        "                prob_v_given_u = 1/N\n",
        "            else:\n",
        "                if v in graph.children(u):\n",
        "                    # starting at 'u', the probability of jumping to a connected node 'v'.\n",
        "                    # (Make sure you take into account the 15% possibility of randomly jumping to any node)\n",
        "                    prob_v_given_u = alpha/out_degree + (1-alpha)/N\n",
        "                else:\n",
        "                    # starting at 'u', the probability of jumping to a random node 'v'\n",
        "                    prob_v_given_u = (1-alpha)/N\n",
        "            phantomTransition[u,v] = prob_v_given_u\n",
        "    return phantomTransition\n",
        "\n",
        "pageRankTransition = createTransitionTable(page_graph, outcomePageRank)\n",
        "print(pageRankTransition)"
      ]
    },
    {
      "cell_type": "markdown",
      "metadata": {
        "id": "aeT7DglcBz7j"
      },
      "source": [
        "Let's use ``GraphViz`` again to plot this graph and ensure we have designed it correctly. Note that we will not print all $11^2$ conditional probabilities, only the ones that correspond to following a link in the above graph. For a node with one outgoing edge, that edge should have a probability of $0.85 + 0.15\\times(1/11) \\approx 0.864$, which is the sum of the probability of following the link $85$% and the probability of randomly choosing the connected node $15\\%\\times(1/11)$."
      ]
    },
    {
      "cell_type": "code",
      "execution_count": null,
      "metadata": {
        "scrolled": true,
        "id": "yjasF_X2Bz7j"
      },
      "outputs": [],
      "source": [
        "dot = Digraph(engine=\"neato\", comment='PageRank Markov chain')\n",
        "dot.attr(overlap=\"false\", splines=\"false\", strict=\"true\")\n",
        "\n",
        "pos = {\n",
        "    'A': '0,2!',\n",
        "    'B': '2,2!',\n",
        "    'C': '4,2!',\n",
        "    'D': '0,1!',\n",
        "    'E': '3,1!',\n",
        "    'F': '4,1!',\n",
        "    'G': '0,0!',\n",
        "    'H': '1,0!',\n",
        "    'I': '2,0!',\n",
        "    'J': '3,0!',\n",
        "    'K': '4,0!',\n",
        "}\n",
        "\n",
        "for v in page_graph:\n",
        "    dot.node(v, pos=pos[v])\n",
        "\n",
        "for v in page_graph:\n",
        "    for w in page_graph.children(v):\n",
        "        dot.edge(v, w, str(round(pageRankTransition[v,w],3)))\n",
        "\n",
        "dot"
      ]
    },
    {
      "cell_type": "markdown",
      "metadata": {
        "id": "CjQctUgBBz7j"
      },
      "source": [
        "## Running PageRank"
      ]
    },
    {
      "cell_type": "code",
      "execution_count": null,
      "metadata": {
        "id": "v51NKGc9Bz7j"
      },
      "outputs": [],
      "source": [
        "variable_remap = {\n",
        "    \"P_next\": \"P\"\n",
        "}\n",
        "\n",
        "# We set all states with equal initial probabilities\n",
        "startPageRank = Factor(('P',), outcomePageRank)\n",
        "startPageRank['A'] = 1/11\n",
        "startPageRank['B'] = 1/11\n",
        "startPageRank['C'] = 1/11\n",
        "startPageRank['D'] = 1/11\n",
        "startPageRank['E'] = 1/11\n",
        "startPageRank['F'] = 1/11\n",
        "startPageRank['G'] = 1/11\n",
        "startPageRank['H'] = 1/11\n",
        "startPageRank['I'] = 1/11\n",
        "startPageRank['J'] = 1/11\n",
        "startPageRank['K'] = 1/11\n",
        "\n",
        "pageRankTransition = createTransitionTable(page_graph, outcomePageRank)\n",
        "\n",
        "mm = MarkovModel(startPageRank, pageRankTransition, variable_remap)\n",
        "errors, page_rank = mm.forwardUntilConvergence()\n",
        "print(page_rank)\n",
        "plt.plot(errors, 'ro')\n",
        "plt.show()"
      ]
    },
    {
      "cell_type": "markdown",
      "metadata": {
        "id": "jjBjrcsqBz7j"
      },
      "source": [
        "We can use ``GraphViz`` to visualise the results of the PageRank algorithm implementation. The next cell tries to mimic the Wikipedia figure."
      ]
    },
    {
      "cell_type": "code",
      "execution_count": null,
      "metadata": {
        "id": "zhRLBzgGBz7j"
      },
      "outputs": [],
      "source": [
        "dot = Digraph(engine=\"neato\", comment='PageRank Markov chain')\n",
        "dot.attr(overlap=\"false\", splines=\"false\", strict=\"true\")\n",
        "\n",
        "pos = {\n",
        "    'A': '0,2!',\n",
        "    'B': '2,2!',\n",
        "    'C': '4,2!',\n",
        "    'D': '0,1!',\n",
        "    'E': '3,1!',\n",
        "    'F': '4,1!',\n",
        "    'G': '0,0!',\n",
        "    'H': '1,0!',\n",
        "    'I': '2,0!',\n",
        "    'J': '3,0!',\n",
        "    'K': '4,0!',\n",
        "}\n",
        "\n",
        "for v in page_graph:\n",
        "    dot.node(v, pos=pos[v], label=v+'\\n'+str(round(page_rank[v]*100,1)))\n",
        "\n",
        "for v in page_graph:\n",
        "    for w in page_graph.children(v):\n",
        "        dot.edge(v, w)\n",
        "\n",
        "dot"
      ]
    },
    {
      "cell_type": "markdown",
      "metadata": {
        "id": "2IrmxnT_Bz7j"
      },
      "source": [
        "![](https://raw.githubusercontent.com/UNSW-COMP9418/Week04/main/img/page_rank.png)"
      ]
    },
    {
      "cell_type": "markdown",
      "metadata": {
        "id": "H8TuMmOABz7j"
      },
      "source": [
        "# Hidden Markov Models (HMMs)\n",
        "\n",
        "We now turn our attention to Hidden Markov Models (HMMs). These are popular dynamic Bayesian Networks. We will implement the forward and Viterbi algorithms and verify how these algorithms provide answers to the questions on the theory part of this tutorial.\n",
        "\n",
        "We start with the forward algorithm. According to the lecture slides, the forward algorithm for HMMs has the following form:\n",
        "\n",
        "1. The transition step is similar to Markov chains. In this step, time passes, and the distribution moves towards its stationary distribution.\n",
        "\n",
        "    $P(x_t|e_{1:t-1}) = \\sum_{x_{t-1}}P(x_{t-1}|e_{1:t-1})P(x_t|x_{t-1})$\n",
        "\n",
        "    where, $P(x_t|e_{1:t-1})$ is the current state before observing the evidence $e_t$. $P(x_{t-1}|e_{1:t-1})$ is the previous state and $P(x_t|x_{t-1})$ is the transition probability.\n",
        "\n",
        "\n",
        "2. The emission step has the following form:\n",
        "\n",
        "    $P(x_t|e_{1:t}) \\propto P(x_t|e_{1:t-1})P(e_t|x_t)$\n",
        "\n",
        "    where, $P(x_t|e_{1:t-1})$ is the current state after observing the evidence $e_t$. $P(x_t|e_{1:t-1})$ is the current state before observing the evidence (obtained in the previous step), and $P(e_t|x_t)$ is the emission probability.\n",
        "\n",
        "\n",
        "The symbol $\\propto$ means that the emission step requires a normalization. The normalization is necessary because we are omitting the denominator in the emission update. The denominator is the probability of the evidence, which we frequently do not have readily available. Although we can compute such a quantity, the normalization is usually easier to calculate.\n",
        "\n",
        "## Exercise\n",
        "\n",
        "Let's implement the forward algorithm for Hidden Markov Models (HMMs)."
      ]
    },
    {
      "cell_type": "markdown",
      "metadata": {
        "id": "qnORxe5yBz7j"
      },
      "source": [
        "To make this function more flexible, we will allow the user to pass an empty emission value as a placeholder. This means that no evidence was observed in this step. Also, the renormalization will be optional, so we will keep it commented for now."
      ]
    },
    {
      "cell_type": "code",
      "execution_count": null,
      "metadata": {
        "id": "nnw6h18aBz7j"
      },
      "outputs": [],
      "source": [
        "class HiddenMarkovModel():\n",
        "    def __init__(self, start_state, transition, emission, variable_remap):\n",
        "        '''\n",
        "        Takes 3 arguments:\n",
        "        - start_state: a factor representing the start state. E.g. domain might be ('A', 'B', 'C')\n",
        "        - transition: a factor that represents the transition probs. E.g. P('A_next', 'B_next', 'C_next' | 'A', 'B', 'C')\n",
        "        - emission: emission probabilities. E.g. P('O' | 'A', 'B', 'C')\n",
        "        - variable_remap: a dictionary that maps new variable names to old variable names,\n",
        "                            to reset the state after transition. E.g. {'A_next':'A', 'B_next':'B', 'C_next':'C'}\n",
        "        '''\n",
        "        self.state = start_state\n",
        "        self.transition = transition\n",
        "        self.emission = emission\n",
        "        self.remap = variable_remap\n",
        "\n",
        "        # These lists will be used later to find the mostly likely sequence of states\n",
        "        self.history = []\n",
        "        self.prev_history = []\n",
        "\n",
        "    def forward(self, **emission_evi):\n",
        "        # get state vars (to be marginalized later)\n",
        "        state_vars = self.state.domain\n",
        "\n",
        "        # join with transition factor\n",
        "        f = ... # TODO\n",
        "\n",
        "        # marginalize out old state vars, leaving only new state vars\n",
        "        for var in state_vars:\n",
        "            f = ... # TODO\n",
        "\n",
        "        # remap variables to their original names\n",
        "        f.domain = tuple(self.remap[var] for var in f.domain)\n",
        "        self.state = f\n",
        "\n",
        "        # set emission evidence\n",
        "        emissionFactor = ... # TODO\n",
        "\n",
        "        # join with state factor\n",
        "        f = ... # TODO\n",
        "\n",
        "        # marginalize out emission vars\n",
        "        for var in f.domain:\n",
        "            if var not in state_vars:\n",
        "                f = ... # TODO\n",
        "        self.state = f\n",
        "\n",
        "        # normalize state (keep commented out for now)\n",
        "        # self.state = self.state.normalize()\n",
        "\n",
        "        return self.state"
      ]
    },
    {
      "cell_type": "code",
      "execution_count": null,
      "metadata": {
        "id": "WznjTVQIBz7j"
      },
      "outputs": [],
      "source": [
        "# Answer\n",
        "\n",
        "class HiddenMarkovModel():\n",
        "    def __init__(self, start_state, transition, emission, variable_remap):\n",
        "        '''\n",
        "        Takes 3 arguments:\n",
        "        - start_state: a factor representing the start state. E.g. domain might be ('A', 'B', 'C')\n",
        "        - transition: a factor that represents the transition probs. E.g. P('A_next', 'B_next', 'C_next' | 'A', 'B', 'C')\n",
        "        - emission: emission probabilities. E.g. P('O' | 'A', 'B', 'C')\n",
        "        - variable_remap: a dictionary that maps new variable names to old variable names,\n",
        "                            to reset the state after transition. E.g. {'A_next':'A', 'B_next':'B', 'C_next':'C'}\n",
        "        '''\n",
        "        self.state = start_state\n",
        "        self.transition = transition\n",
        "        self.emission = emission\n",
        "        self.remap = variable_remap\n",
        "\n",
        "        self.history = []\n",
        "        self.prev_history = []\n",
        "\n",
        "    def forward(self, **emission_evi):\n",
        "        # get state vars (to be marginalized later)\n",
        "        state_vars = self.state.domain\n",
        "\n",
        "        # join with transition factor\n",
        "        f = self.state*self.transition\n",
        "\n",
        "        # marginalize out old state vars, leaving only new state vars\n",
        "        for var in state_vars:\n",
        "            f = f.marginalize(var)\n",
        "\n",
        "        # remap variables to their original names\n",
        "        f.domain = tuple(self.remap[var] for var in f.domain)\n",
        "        self.state = f\n",
        "\n",
        "        # set emission evidence\n",
        "        emissionFactor = self.emission.evidence(**emission_evi)\n",
        "\n",
        "        # join with state factor\n",
        "        f = self.state*emissionFactor\n",
        "\n",
        "        # marginalize out emission vars\n",
        "        for var in f.domain:\n",
        "            if var not in state_vars:\n",
        "                f = f.marginalize(var)\n",
        "        self.state = f\n",
        "\n",
        "        # normalize state (keep commented out for now)\n",
        "        # self.state = self.state.normalize()\n",
        "\n",
        "        return self.state"
      ]
    },
    {
      "cell_type": "markdown",
      "metadata": {
        "id": "TFJdnNN3Bz7j"
      },
      "source": [
        "Let's use the weather example from the lecture to test our implementation. In this example, a graduate student attempts to determine the current weather state by observing his advisor carrying an umbrella.\n",
        "\n",
        "These are the transition and emission probabilities:"
      ]
    },
    {
      "cell_type": "code",
      "execution_count": null,
      "metadata": {
        "id": "55u-M4v0Bz7j"
      },
      "outputs": [],
      "source": [
        "##################\n",
        "# Test code\n",
        "\n",
        "# possible outcomes, by variable\n",
        "outcomeSpace = {\n",
        "    'Weather':('sun','rain'),\n",
        "    'Weather_next':('sun','rain'),\n",
        "    'Umbrella': ('umbrella', 'no_umbrella'),\n",
        "}\n",
        "\n",
        "weatherStart = Factor(('Weather',), outcomeSpace)\n",
        "weatherStart['sun'] = 0.5\n",
        "weatherStart['rain'] = 0.5\n",
        "weatherTransition = Factor(('Weather', 'Weather_next'), outcomeSpace)\n",
        "weatherTransition['sun', 'sun'] = 0.7\n",
        "weatherTransition['sun', 'rain'] = 0.3\n",
        "weatherTransition['rain', 'sun'] = 0.3\n",
        "weatherTransition['rain', 'rain'] = 0.7\n",
        "weatherEmission = Factor(('Weather', 'Umbrella'), outcomeSpace)\n",
        "weatherEmission['sun', 'umbrella'] = 0.2\n",
        "weatherEmission['sun', 'no_umbrella'] = 0.8\n",
        "weatherEmission['rain', 'umbrella'] = 0.9\n",
        "weatherEmission['rain', 'no_umbrella'] = 0.1\n",
        "\n",
        "variable_remap = {\n",
        "    'Weather_next': 'Weather'\n",
        "}\n",
        "\n",
        "hmm = HiddenMarkovModel(weatherStart, weatherTransition, weatherEmission, variable_remap)\n",
        "print(hmm.forward(Umbrella='umbrella'))\n",
        "\n",
        "hmm = HiddenMarkovModel(weatherStart, weatherTransition, weatherEmission, variable_remap)\n",
        "print(hmm.forward())"
      ]
    },
    {
      "cell_type": "markdown",
      "metadata": {
        "id": "3uxZrBLIBz7j"
      },
      "source": [
        "If you implemented your code correctly, you should see an output like this:\n",
        "\n",
        "```\n",
        "╒═══════════╤══════╕\n",
        "│ Weather   │   Pr │\n",
        "╞═══════════╪══════╡\n",
        "│ sun       │ 0.1  │\n",
        "├───────────┼──────┤\n",
        "│ rain      │ 0.45 │\n",
        "╘═══════════╧══════╛\n",
        "\n",
        "╒═══════════╤══════╕\n",
        "│ Weather   │   Pr │\n",
        "╞═══════════╪══════╡\n",
        "│ sun       │  0.5 │\n",
        "├───────────┼──────┤\n",
        "│ rain      │  0.5 │\n",
        "╘═══════════╧══════╛\n",
        "```"
      ]
    },
    {
      "cell_type": "markdown",
      "metadata": {
        "id": "1bQkL9P0Bz7j"
      },
      "source": [
        "## Exercise\n",
        "\n",
        "Let's now implement the batch version of the forward algorithm. The batch version takes as input a sequence of `n` observations and outputs an array of length `n` with the state distribution at each time step.\n",
        "\n",
        "We have created a stub for you. You should pass as an argument a list of evidence observations. Call the online version of the algorithm as many times as you have items in the emissionEviList."
      ]
    },
    {
      "cell_type": "code",
      "execution_count": null,
      "metadata": {
        "id": "eztOqmRJBz7k"
      },
      "outputs": [],
      "source": [
        "class HiddenMarkovModel(HiddenMarkovModel):\n",
        "    def forwardBatch(self, n, **emission_evi):\n",
        "        '''\n",
        "        emission_evi: A dictionary of lists, each list containing the evidence list for a variable.\n",
        "                         Use `None` if no evidence for that timestep\n",
        "        '''\n",
        "        history = []\n",
        "        for i in range(n):\n",
        "            # select evidence for this timestep\n",
        "            evi_dict = dict([(key, value[i]) for key, value in emission_evi.items() if value[i] is not None])\n",
        "\n",
        "            # take a step forward\n",
        "            state = ... # TODO\n",
        "            history.append(state)\n",
        "        return history"
      ]
    },
    {
      "cell_type": "code",
      "execution_count": null,
      "metadata": {
        "id": "7u_-7OUzBz7k"
      },
      "outputs": [],
      "source": [
        "# Answer\n",
        "\n",
        "class HiddenMarkovModel(HiddenMarkovModel):\n",
        "    def forwardBatch(self, n, **emission_evi):\n",
        "        '''\n",
        "        emission_evi: A dictionary of lists, each list containing the evidence list for a variable.\n",
        "                         Use `None` if no evidence for that timestep\n",
        "        '''\n",
        "        history = []\n",
        "        for i in range(n):\n",
        "            # select evidence for this timestep\n",
        "            evi_dict = dict([(key, value[i]) for key, value in emission_evi.items() if value[i] is not None])\n",
        "\n",
        "            # take a step forward\n",
        "            state = self.forward(**evi_dict)\n",
        "            history.append(state)\n",
        "        return history"
      ]
    },
    {
      "cell_type": "code",
      "execution_count": null,
      "metadata": {
        "id": "IKzau2g-Bz7k"
      },
      "outputs": [],
      "source": [
        "hmm = HiddenMarkovModel(weatherStart, weatherTransition, weatherEmission, variable_remap)\n",
        "timeLine = hmm.forwardBatch(2, Umbrella=['umbrella', 'umbrella'])\n",
        "for t in range(len(timeLine)):\n",
        "    print(\"Time: \", t)\n",
        "    print(timeLine[t])\n",
        "    print()"
      ]
    },
    {
      "cell_type": "markdown",
      "metadata": {
        "id": "LO6WalqOBz7k"
      },
      "source": [
        "If your implementation is correct. You should see an output like this one:\n",
        "\n",
        "```\n",
        "Time:  0\n",
        "╒═══════════╤══════╕\n",
        "│ Weather   │   Pr │\n",
        "╞═══════════╪══════╡\n",
        "│ sun       │ 0.1  │\n",
        "├───────────┼──────┤\n",
        "│ rain      │ 0.45 │\n",
        "╘═══════════╧══════╛\n",
        "\n",
        "\n",
        "Time:  1\n",
        "╒═══════════╤════════╕\n",
        "│ Weather   │     Pr │\n",
        "╞═══════════╪════════╡\n",
        "│ sun       │ 0.041  │\n",
        "├───────────┼────────┤\n",
        "│ rain      │ 0.3105 │\n",
        "╘═══════════╧════════╛\n",
        "\n",
        "```"
      ]
    },
    {
      "cell_type": "markdown",
      "metadata": {
        "id": "KBjdaHARBz7k"
      },
      "source": [
        "Now, let's implement the Viterbi algorithm. The Viterbi algorithm provides answers to queries in the form of the most likely explanation (MLE). In other words, the output will be the most likely instantiation for each of the hidden states.\n",
        "\n",
        "According to the course slides, the Viterbi algorithm has the following equations:\n",
        "\n",
        "$m_t[x_t] = P(e_t|x_t) max_{x_{t-1}}P(x_t|x_{t-1})m_{t-1}[x_{t-1}]$\n",
        "\n",
        "where,\n",
        "\n",
        "- $m_t[x_t]$ is the MLE for time $t$.\n",
        "- $P(e_t|x_t)$ is the emission probability.\n",
        "- $P(x_t|x_{t-1})$ is the transition probability.\n",
        "- $m_{t-1}[x_{t-1}]$ is the MLE for time $t-1$."
      ]
    },
    {
      "cell_type": "markdown",
      "metadata": {
        "id": "nMswfyIdBz7k"
      },
      "source": [
        "## Exercise\n",
        "\n",
        "To implement the Viterbi algorithm, we will need an intermediate operation, `maximize`. Such an operation is similar to `marginalize` in the sense that it will eliminate one variable of a factor. However, instead of summing out this variable, we will compute the maximum among the entries.\n",
        "\n",
        "We have created a stub for you. You will need to complete a few gaps."
      ]
    },
    {
      "cell_type": "code",
      "execution_count": null,
      "metadata": {
        "id": "uc4vtcyYBz7k"
      },
      "outputs": [],
      "source": [
        "class Factor(Factor):\n",
        "    def maximize(self, var, return_prev=False):\n",
        "        '''\n",
        "        Usage: f.maximize('B'), where 'B' is a variable name.\n",
        "        This function removes a variable from the domain, and maximizes over that variable in the table\n",
        "        The return_prev argument will be used when tracing back the viterbi algorithm\n",
        "        '''\n",
        "\n",
        "        # create new domain\n",
        "        ... # TODO\n",
        "\n",
        "        # remove an axis of the table by taking a maximum over that axis\n",
        "        axis = self.domain.index(var)\n",
        "        new_table = ... # TODO\n",
        "\n",
        "        # create a new factor to be returned\n",
        "        outputFactor = self.__class__(tuple(new_dom),self.outcomeSpace, new_table)\n",
        "\n",
        "        if return_prev:\n",
        "            # get the index chosen when taking maximum (to be used later in the viterbi algorithm)\n",
        "            prev = np.argmax(self.table, axis=axis)\n",
        "            return outputFactor, prev\n",
        "        else:\n",
        "            return outputFactor\n",
        "\n",
        "\n",
        "################\n",
        "# Test code\n",
        "\n",
        "# re-initialize the factors so that it has access to the maximize function\n",
        "weatherStart = Factor(weatherStart.domain, weatherStart.outcomeSpace, weatherStart.table)\n",
        "weatherTransition = Factor(weatherTransition.domain, weatherTransition.outcomeSpace, weatherTransition.table)\n",
        "weatherEmission = Factor(weatherEmission.domain, weatherEmission.outcomeSpace, weatherEmission.table)\n",
        "\n",
        "print(weatherEmission.maximize('Umbrella'))"
      ]
    },
    {
      "cell_type": "code",
      "execution_count": null,
      "metadata": {
        "id": "r_IVChc4Bz7k"
      },
      "outputs": [],
      "source": [
        "# Answer\n",
        "\n",
        "class Factor(Factor):\n",
        "    def maximize(self, var, return_prev=False):\n",
        "        '''\n",
        "        Usage: f.maximize('B'), where 'B' is a variable name.\n",
        "        This function removes a variable from the domain, and maximizes over that variable in the table\n",
        "        '''\n",
        "\n",
        "        # create new domain\n",
        "        new_dom = list(self.domain)\n",
        "        new_dom.remove(var)\n",
        "\n",
        "        # remove an axis of the table by summing it out\n",
        "        axis = self.domain.index(var)\n",
        "        new_table = np.max(self.table, axis=axis)\n",
        "\n",
        "        outputFactor = self.__class__(tuple(new_dom),self.outcomeSpace, new_table)\n",
        "\n",
        "        if return_prev:\n",
        "            prev = np.argmax(self.table, axis=axis)\n",
        "            return outputFactor, prev\n",
        "        else:\n",
        "            return outputFactor\n",
        "\n",
        "\n",
        "################\n",
        "# Test code\n",
        "\n",
        "# re-initialize the factors so that it has access to the maximize function\n",
        "weatherStart = Factor(weatherStart.domain, weatherStart.outcomeSpace, weatherStart.table)\n",
        "weatherTransition = Factor(weatherTransition.domain, weatherTransition.outcomeSpace, weatherTransition.table)\n",
        "weatherEmission = Factor(weatherEmission.domain, weatherEmission.outcomeSpace, weatherEmission.table)\n",
        "\n",
        "print(weatherEmission.maximize('Umbrella'))"
      ]
    },
    {
      "cell_type": "markdown",
      "metadata": {
        "id": "N6kxV-OeBz7k"
      },
      "source": [
        "If your implementation is correct, you should see the following output:\n",
        "\n",
        "```\n",
        "╒═══════════╤══════╕\n",
        "│ Weather   │   Pr │\n",
        "╞═══════════╪══════╡\n",
        "│ sun       │  0.8 │\n",
        "├───────────┼──────┤\n",
        "│ rain      │  0.9 │\n",
        "╘═══════════╧══════╛\n",
        "```"
      ]
    },
    {
      "cell_type": "markdown",
      "metadata": {
        "id": "ypO7NKIoBz7k"
      },
      "source": [
        "## Exercise\n",
        "\n",
        "We are now in a position to implement the Viterbi algorithm. We have started the implementation and left a few details for you to fill in. As before, we will code the online version first. The online version provides the output for a single time and an evidence observation increment. The batch version is a simple extension of the online algorithm."
      ]
    },
    {
      "cell_type": "code",
      "execution_count": null,
      "metadata": {
        "id": "NaZ1TAbbBz7k"
      },
      "outputs": [],
      "source": [
        "class HiddenMarkovModel(HiddenMarkovModel):\n",
        "    def viterbi(self, **emission_evi):\n",
        "        '''\n",
        "        This function is very similar to the forward algorithm.\n",
        "        For simplicity, we will assume that there is only one state variable, and one emission variable.\n",
        "        '''\n",
        "\n",
        "        # confirm that state and emission each have 1 variable\n",
        "        assert len(self.state.domain) == 1\n",
        "        assert len(self.emission.domain) == 2\n",
        "        assert len(self.transition.domain) == 2\n",
        "\n",
        "        # get state and evidence var names (to be marginalized and maximised out later)\n",
        "        state_var_name = self.state.domain[0]\n",
        "        emission_vars = [v for v in self.emission.domain if v not in self.state.domain]\n",
        "        emission_var_name = emission_vars[0]\n",
        "\n",
        "        # join with transition factor\n",
        "        f = ... # TODO\n",
        "\n",
        "        # maximize out old state vars, leaving only new state vars\n",
        "        f, prev = ... # TODO (use return_prev to also return prev)\n",
        "        self.prev_history.append(prev) # save prev for use in traceback\n",
        "\n",
        "        # remap variables to their original names\n",
        "        f.domain = tuple(self.remap[var] for var in f.domain)\n",
        "        self.state = f\n",
        "\n",
        "        # set emission evidence\n",
        "        emissionFactor = ... # TODO\n",
        "\n",
        "        # join with state factor\n",
        "        f = ... # TODO\n",
        "\n",
        "        # marginalize out emission vars\n",
        "        f = ... # TODO\n",
        "        self.state = f\n",
        "\n",
        "        # normalize state (keep commented out for now)\n",
        "        # self.state = self.state.normalize()\n",
        "\n",
        "        self.history.append(self.state)\n",
        "\n",
        "        return self.state\n",
        "\n",
        "    def viterbiBatch(self, n,  **emission_evi):\n",
        "        '''\n",
        "        emission_evi: A dictionary of lists, each list containing the evidence list for a variable.\n",
        "                         Use `None` if no evidence for that timestep\n",
        "        '''\n",
        "        for i in range(n):\n",
        "            # get evidence for this timestep\n",
        "            evi_dict = dict([(key, value[i]) for key, value in emission_evi.items() if value[i] is not None])\n",
        "            ... # TODO take a step using the `viterbi` method\n",
        "        return self.history\n",
        "\n",
        "##################\n",
        "# Test code\n",
        "\n",
        "hmm = HiddenMarkovModel(weatherStart, weatherTransition, weatherEmission, variable_remap)\n",
        "print(hmm.viterbi(Umbrella='umbrella'))\n"
      ]
    },
    {
      "cell_type": "code",
      "execution_count": null,
      "metadata": {
        "id": "RC7aFI2DBz7k"
      },
      "outputs": [],
      "source": [
        "# Answer\n",
        "\n",
        "class HiddenMarkovModel(HiddenMarkovModel):\n",
        "    def viterbi(self, **emission_evi):\n",
        "        '''\n",
        "        This function is very similar to the forward algorithm.\n",
        "        For simplicity, we will assume that there is only one state variable, and one emission variable.\n",
        "        '''\n",
        "\n",
        "        # confirm that state and emission each have 1 variable\n",
        "        assert len(self.state.domain) == 1\n",
        "        assert len(self.emission.domain) == 2\n",
        "        assert len(self.transition.domain) == 2\n",
        "\n",
        "        # get state and evidence var names (to be marginalized and maximised out later)\n",
        "        state_var_name = self.state.domain[0]\n",
        "        emission_vars = [v for v in self.emission.domain if v not in self.state.domain]\n",
        "        emission_var_name = emission_vars[0]\n",
        "\n",
        "        # join with transition factor\n",
        "        f = self.state*self.transition\n",
        "\n",
        "        # maximize out old state vars, leaving only new state vars\n",
        "        f, prev = f.maximize(state_var_name, return_prev=True)\n",
        "        self.prev_history.append(prev)\n",
        "\n",
        "        # remap variables to their original names\n",
        "        f.domain = tuple(self.remap[var] for var in f.domain)\n",
        "        self.state = f\n",
        "\n",
        "        # set emission evidence\n",
        "        emissionFactor = self.emission.evidence(**emission_evi)\n",
        "\n",
        "        # join with state factor\n",
        "        f = self.state*emissionFactor\n",
        "\n",
        "        # marginalize out emission var if it is in the factor domain\n",
        "        if emission_var_name in f.domain:\n",
        "            f = f.marginalize(emission_var_name)\n",
        "\n",
        "        # normalize state (keep commented out for now)\n",
        "        # self.state = self.state.normalize()\n",
        "\n",
        "        self.state = f\n",
        "        self.history.append(self.state)\n",
        "        return self.state\n",
        "\n",
        "    def viterbiBatch(self, n,  **emission_evi):\n",
        "        '''\n",
        "        emission_evi: A dictionary of lists, each list containing the evidence list for a variable.\n",
        "                         Use `None` if no evidence for that timestep\n",
        "        '''\n",
        "        for i in range(n):\n",
        "            # select evidence for this timestep\n",
        "            evi_dict = dict([(key, value[i]) for key, value in emission_evi.items() if value[i] is not None])\n",
        "            self.viterbi(**evi_dict)\n",
        "        return self.history\n",
        "\n",
        "##################\n",
        "# Test code\n",
        "\n",
        "hmm = HiddenMarkovModel(weatherStart, weatherTransition, weatherEmission, variable_remap)\n",
        "print(hmm.viterbi(Umbrella='umbrella'))"
      ]
    },
    {
      "cell_type": "markdown",
      "metadata": {
        "id": "-M-H7l5pBz7k"
      },
      "source": [
        "If your implementation is correct, you should see the following output:\n",
        "\n",
        "```\n",
        "╒═══════════╤═══════╕\n",
        "│ Weather   │    Pr │\n",
        "╞═══════════╪═══════╡\n",
        "│ sun       │ 0.07  │\n",
        "├───────────┼───────┤\n",
        "│ rain      │ 0.315 │\n",
        "╘═══════════╧═══════╛\n",
        "```\n",
        "\n",
        "Now, we can test the batch version of the Viterbi algorithm with a simple code that runs 2 iterations and prints the timeline."
      ]
    },
    {
      "cell_type": "code",
      "execution_count": null,
      "metadata": {
        "scrolled": true,
        "id": "Rg26RwsyBz7k"
      },
      "outputs": [],
      "source": [
        "hmm = HiddenMarkovModel(weatherStart, weatherTransition, weatherEmission, variable_remap)\n",
        "timeLine = hmm.viterbiBatch(2, Umbrella=['umbrella', 'umbrella'])\n",
        "for t in range(len(timeLine)):\n",
        "    print(\"Time: \", t)\n",
        "    print(timeLine[t])"
      ]
    },
    {
      "cell_type": "markdown",
      "metadata": {
        "id": "J9cSoW2rBz7k"
      },
      "source": [
        "If your implementation is correct, you should see the following output:\n",
        "\n",
        "```\n",
        "Time:  0\n",
        "╒═══════════╤═══════╕\n",
        "│ Weather   │    Pr │\n",
        "╞═══════════╪═══════╡\n",
        "│ sun       │ 0.07  │\n",
        "├───────────┼───────┤\n",
        "│ rain      │ 0.315 │\n",
        "╘═══════════╧═══════╛\n",
        "\n",
        "Time:  1\n",
        "╒═══════════╤═════════╕\n",
        "│ Weather   │      Pr │\n",
        "╞═══════════╪═════════╡\n",
        "│ sun       │ 0.0189  │\n",
        "├───────────┼─────────┤\n",
        "│ rain      │ 0.19845 │\n",
        "╘═══════════╧═════════╛\n",
        "```\n",
        "\n",
        "Before we conclude with an exercise, here are some suggestions for ways to improve the source code of this tutorial:\n",
        "\n",
        "1. The forward algorithm typically does not normalize the intermediate results. You can make this step optional with a flag. This change can also be done to the Viterbi algorithm.\n",
        "\n",
        "2. If you do not normalize, the probabilities will assume small values due to the sequence of multiplications. In this case, operating with log-probabilities will decrease the chance of having underflows.\n",
        "\n",
        "3. For simplicity, we are assuming the update steps are composed of a transition followed by an emission. But it is not always the case. It would be better if these steps could be inverted or, even better, implemented independently of each other.\n",
        "\n",
        "# Finding the MPE Assignment\n",
        "\n",
        "As we discussed in the lecture, the MPE assignment can be found in the output computed by the Viterbi algorithm. Remember that the correct assignment is obtained when we trace back the computations, starting with the last state and working our way towards the first state. There are two main approaches for finding the MPE assignment:\n",
        "\n",
        "1. Use an additional data structure to store pointers indicating the path of the highest probability.\n",
        "\n",
        "2. Use the output of the Viterbi algorithm and trace back the computations.\n",
        "\n",
        "In the next cell, we provide a function to find the MPE assignment using the output of the ``viterbi`` function. We will use the first method of finding the MPE assignment."
      ]
    },
    {
      "cell_type": "code",
      "execution_count": null,
      "metadata": {
        "id": "DK5PYhREBz7k"
      },
      "outputs": [],
      "source": [
        "class HiddenMarkovModel(HiddenMarkovModel):\n",
        "    def traceBack(self):\n",
        "        '''\n",
        "        This function iterates backwards over the history to find the most\n",
        "        likely sequence of states.\n",
        "        For simplicity, this function assumes there is one state variable\n",
        "        '''\n",
        "        # get most likely outcome of final state\n",
        "        index = np.argmax(self.history[-1].table)\n",
        "\n",
        "        # Go through \"prev_history\" in reverse\n",
        "        indexList = []\n",
        "        for prev in reversed(self.prev_history):\n",
        "            indexList.append(index)\n",
        "            index = prev[index]\n",
        "        indexList = reversed(indexList)\n",
        "\n",
        "        # translate the indicies into the outcomes they represent\n",
        "        mleList = []\n",
        "        stateVar = self.state.domain[0]\n",
        "        for idx in indexList:\n",
        "            mleList.append(self.state.outcomeSpace[stateVar][idx])\n",
        "        return mleList\n",
        "\n",
        "####################\n",
        "## Test code\n",
        "\n",
        "hmm = HiddenMarkovModel(weatherStart, weatherTransition, weatherEmission, variable_remap)\n",
        "timeLine = hmm.viterbiBatch(2, Umbrella=['umbrella', 'umbrella'])\n",
        "mpe = hmm.traceBack()\n",
        "print(mpe)"
      ]
    },
    {
      "cell_type": "markdown",
      "metadata": {
        "id": "kllvpWU0Bz7l"
      },
      "source": [
        "## Exercise\n",
        "\n",
        "You can use the implemented code to find the numerical answers to the questions of the theory part of this tutorial.\n",
        "\n",
        "### Question 1\n",
        "\n",
        "Lisa is given a fair coin $C_1$ and asked to flip it eight times in a row. Lisa also has a biased coin $C_2$ with a 0.8 probability of landing heads. All we know is that Lisa initially flipped the fair coin, but we believe she intends to switch to the biased coin and tends to be 10% successful in performing the switch. Suppose we observe the outcome of the eight coin flips and want to determine whether Lisa managed to perform a coin switch and when. What is the solution to this problem, assuming that the flips came out as follows:\n",
        "\n",
        "    a. tails, tails, tails, heads, heads, heads, heads, heads\n",
        "    b. tails, tails, heads, heads, heads, heads, heads, heads"
      ]
    },
    {
      "cell_type": "code",
      "execution_count": null,
      "metadata": {
        "id": "RP4DbHYoBz7l"
      },
      "outputs": [],
      "source": [
        "# Answer\n",
        "\n",
        "outcomeSpaceLisa = {\n",
        "    \"C\":('fair','biased'),\n",
        "    \"C_next\":('fair','biased'),\n",
        "    \"U\":('heads', 'tails')\n",
        "}\n",
        "\n",
        "t = Factor(('C', 'C_next'), outcomeSpaceLisa)\n",
        "t['fair', 'fair'] = 0.9\n",
        "t['fair', 'biased'] = 0.1\n",
        "t['biased', 'fair'] = 0.0\n",
        "t['biased', 'biased'] = 1.0\n",
        "\n",
        "s = Factor(('C',), outcomeSpaceLisa)\n",
        "s['fair'] = 1.0\n",
        "s['biased'] = 0.0\n",
        "\n",
        "e = Factor(('C', 'U'), outcomeSpaceLisa)\n",
        "e['fair', 'heads'] = 0.5\n",
        "e['fair', 'tails'] = 0.5\n",
        "e['biased', 'heads'] = 0.8\n",
        "e['biased', 'tails'] = 0.2\n",
        "\n",
        "\n",
        "####################\n",
        "## Test code\n",
        "\n",
        "variable_remap = {'C_next': 'C'}\n",
        "hmm = HiddenMarkovModel(s, t, e, variable_remap)\n",
        "timeLine = hmm.viterbiBatch(8, U=('tails', 'tails', 'tails', 'heads', 'heads', 'heads', 'heads', 'heads'))\n",
        "mpe = hmm.traceBack()\n",
        "print(mpe)\n",
        "for factor in timeLine:\n",
        "    print(factor)\n",
        "\n",
        "variable_remap = {'C_next': 'C'}\n",
        "hmm = HiddenMarkovModel(s, t, e, variable_remap)\n",
        "timeLine = hmm.viterbiBatch(8, U=('tails', 'tails', 'heads', 'heads', 'heads', 'heads', 'heads', 'heads'))\n",
        "mpe = hmm.traceBack()\n",
        "print(mpe)\n",
        "for factor in timeLine:\n",
        "    print(factor)"
      ]
    },
    {
      "cell_type": "markdown",
      "metadata": {
        "id": "vG4EucWzBz7l"
      },
      "source": [
        "### Question 2\n",
        "\n",
        "Consider a cow that may be infected with a disease that can be detected by performing a milk test. The test is performed over five consecutive days, resulting in five outcomes. We aim to determine the state of the cow's infection over the past few days, based on the test outcomes. The prior probability of an infection on day one is 1/10,000; the test's false positive rate is 5/1,000; and its false negative rate is 1/1,000. Moreover, the state of infection on a given day depends only on its state on the previous day. In particular, the probability of a new infection on a given day is 2/10,000, while the probability that an infection would persist to the next day is 7/10.\n",
        "\n",
        "What is the most likely state of the cow's infection over the five days, given the following test outcomes:\n",
        "\n",
        "    a. positive, positive, negative, positive, positive\n",
        "    b. positive, negative, negative, positive, positive\n",
        "    c. positive, negative, negative, negative, positive"
      ]
    },
    {
      "cell_type": "code",
      "execution_count": null,
      "metadata": {
        "id": "-hbLlGxdBz7l"
      },
      "outputs": [],
      "source": [
        "# Answer\n",
        "\n",
        "outcomeSpaceCow = {\n",
        "    \"Cow_next\":('healthy','infected'),\n",
        "    \"Cow\":('healthy','infected'),\n",
        "    \"Test\": ('positive', 'negative')\n",
        "}\n",
        "\n",
        "transitionCow = Factor(('Cow', 'Cow_next'), outcomeSpaceCow)\n",
        "transitionCow['healthy', 'healthy'] = 0.9998\n",
        "transitionCow['healthy', 'infected'] = 0.0002\n",
        "transitionCow['infected', 'healthy'] = 0.3\n",
        "transitionCow['infected', 'infected'] = 0.7\n",
        "\n",
        "startCow = Factor(('Cow',), outcomeSpaceCow)\n",
        "startCow['healthy'] = 0.9999\n",
        "startCow['infected'] = 0.0001\n",
        "\n",
        "evidenceCow = Factor(('Cow', 'Test'), outcomeSpaceCow)\n",
        "evidenceCow['healthy', 'positive'] = 0.005\n",
        "evidenceCow['healthy', 'negative'] = 0.995\n",
        "evidenceCow['infected', 'positive'] = 0.999\n",
        "evidenceCow['infected', 'negative'] = 0.001\n",
        "\n",
        "variable_remap = {'Cow_next': 'Cow'}\n",
        "hmm = HiddenMarkovModel(startCow, transitionCow, evidenceCow, variable_remap)\n",
        "timeLine = hmm.viterbiBatch(5, Test=('positive', 'positive', 'negative', 'positive', 'positive'))\n",
        "mpe = hmm.traceBack()\n",
        "print(mpe)\n",
        "\n",
        "hmm = HiddenMarkovModel(startCow, transitionCow, evidenceCow, variable_remap)\n",
        "timeLine = hmm.viterbiBatch(5, Test=('positive', 'negative', 'negative', 'positive', 'positive'))\n",
        "mpe = hmm.traceBack()\n",
        "print(mpe)\n",
        "\n",
        "hmm = HiddenMarkovModel(startCow, transitionCow, evidenceCow, variable_remap)\n",
        "timeLine = hmm.viterbiBatch(5, Test=('positive', 'negative', 'negative', 'negative', 'positive'))\n",
        "mpe = hmm.traceBack()\n",
        "print(mpe)"
      ]
    },
    {
      "cell_type": "markdown",
      "metadata": {
        "id": "UDVphlypBz7l"
      },
      "source": [
        "# Final Task\n",
        "Add the `maximize` method to your DiscreteFactors.py file"
      ]
    },
    {
      "cell_type": "code",
      "execution_count": null,
      "metadata": {
        "id": "BPzVrTQOBz7l"
      },
      "outputs": [],
      "source": [
        "from itertools import product\n",
        "from tabulate import tabulate\n",
        "import copy\n",
        "import numpy as np\n",
        "\n",
        "class Factor:\n",
        "    '''\n",
        "    Factors are a generalisation of discrete probability distributions over one or more random variables.\n",
        "    Each variable must have a name (which may be a string or integer).\n",
        "    The domain of the factor specifies which variables the factor operates over.\n",
        "    The outcomeSpace specifies the possible outcomes of each variable.\n",
        "\n",
        "\n",
        "    The probabilities are stored in a n-dimensional numpy array, using the domain and outcomeSpace\n",
        "    as dimension and row labels respectively.\n",
        "    '''\n",
        "    def __init__(self, domain, outcomeSpace, table=None, trivial=False):\n",
        "        '''\n",
        "        Inititalise a factor with a given domain and outcomeSpace.\n",
        "        All probabilities are set to uniform distribution by default.\n",
        "        If trivial=True then it creates a trivial factor (all entries equal to one).\n",
        "        '''\n",
        "        self.domain = tuple(domain) # tuple of variable names, which may be strings, integers, etc.\n",
        "\n",
        "        if table is None:\n",
        "            # By default, intitialize with a uniform distribution\n",
        "            self.table = np.ones(shape=tuple(len(outcomeSpace[var]) for var in self.domain))\n",
        "            if not trivial:\n",
        "                self.table = self.table/np.sum(self.table)\n",
        "        else:\n",
        "            self.table = table\n",
        "\n",
        "        self.outcomeSpace = copy.copy(outcomeSpace)\n",
        "\n",
        "    def __getitem__(self, outcomes):\n",
        "        '''\n",
        "        Usage: f['sunny','true'], where 'sunny' and 'true' are outcomes.\n",
        "\n",
        "        This function allows direct access to individual probabilities.\n",
        "        E.g. if the factor represents a joint distribution over variables 'A','B','C','D', each with outcomeSpace [0,1,2],\n",
        "        then `factor[0,1,0,2]` will return the probability that the four variables are set to 0,1,0,2 respectively.\n",
        "\n",
        "        The outcomes used for indexing may also be strings. If in the example above the outcomeSpace of each variable is\n",
        "        ['true','false'], then `factor['true','false','true','true']` will return the probability that\n",
        "        A='true', B='false', C='true' and D='true'.\n",
        "\n",
        "        The order of the indicies is determined by the order of the variables in self.domain.\n",
        "        '''\n",
        "\n",
        "        # check if only a single index was used.\n",
        "        if not isinstance(outcomes, tuple):\n",
        "            outcomes = (outcomes,)\n",
        "\n",
        "        # convert outcomes into array indicies\n",
        "        indicies = tuple(self.outcomeSpace[var].index(outcomes[i]) for i, var in enumerate(self.domain))\n",
        "        return self.table[indicies]\n",
        "\n",
        "    def __setitem__(self, outcomes, new_value):\n",
        "        '''\n",
        "        This function is called when setting a probability. E.g. `factor[0,1,0,2] = 0.5`.\n",
        "        '''\n",
        "        if not isinstance(outcomes, tuple):\n",
        "            outcomes = (outcomes,)\n",
        "        indicies = tuple(self.outcomeSpace[var].index(outcomes[i]) for i, var in enumerate(self.domain))\n",
        "        self.table[indicies] = new_value\n",
        "\n",
        "    def join(self, other):\n",
        "        '''\n",
        "        Usage: `new = f.join(g)` where f and g are Factors\n",
        "        This function multiplies two factors.\n",
        "        '''\n",
        "        # confirm that any shared variables have the same outcomeSpace\n",
        "        for var in set(other.domain).intersection(set(self.domain)):\n",
        "            if self.outcomeSpace[var] != other.outcomeSpace[var]:\n",
        "                print(var,other.domain, other.outcomeSpace[var], other.table)\n",
        "                print(self, other)\n",
        "                raise IndexError('Incompatible outcomeSpaces. Make sure you set the same evidence on all factors')\n",
        "\n",
        "        # extend current domain with any new variables required\n",
        "        new_dom = list(self.domain) + list(set(other.domain) - set(self.domain))\n",
        "\n",
        "        # to prepare for multiplying arrays, we need to make sure both arrays have the correct number of axes\n",
        "        self_t = self.table\n",
        "        other_t = other.table\n",
        "        for _ in set(other.domain) - set(self.domain):\n",
        "            self_t = self_t[..., np.newaxis]\n",
        "        for _ in set(self.domain) - set(other.domain):\n",
        "            other_t = other_t[..., np.newaxis]\n",
        "\n",
        "        # And we need the new axes to be transposed to the correct location\n",
        "        old_order = list(other.domain) + list(set(self.domain) - set(other.domain))\n",
        "        new_order = []\n",
        "        for v in new_dom:\n",
        "            new_order.append(old_order.index(v))\n",
        "        other_t = np.transpose(other_t, new_order)\n",
        "\n",
        "        # Now that the arrays are all set up, we can rely on numpy broadcasting to work out which numbers need to be multiplied.\n",
        "        # https://numpy.org/doc/stable/user/basics.broadcasting.html\n",
        "        new_table = self_t * other_t\n",
        "\n",
        "        # The final step is to create the new outcomeSpace\n",
        "        new_outcomeSpace = self.outcomeSpace.copy()\n",
        "        new_outcomeSpace.update(other.outcomeSpace)\n",
        "\n",
        "        # in the following line, `self.__class__` is the same as `Factor` (except it doesn't break things when subclassing)\n",
        "        return self.__class__(tuple(new_dom), new_outcomeSpace, table=new_table)\n",
        "\n",
        "    def evidence(self, **kwargs):\n",
        "        '''\n",
        "        Usage:  f.evidence(A='true', B='sunny'), where 'A' and 'B' are variable\n",
        "                names, and 'true' and 'sunny' are the observed outcomes.\n",
        "\n",
        "        Sets evidence by modifying the outcomeSpace\n",
        "        This function must be used to set evidence on all factors before joining,\n",
        "        because it removes the relevant variable from the factor.\n",
        "\n",
        "        Usage: fac.evidence(A='true',B='false')\n",
        "        This returns a factor which has set the variable 'A' to 'true' and 'B' to 'false'.\n",
        "        '''\n",
        "        f = self.copy()\n",
        "        evidence_dict = kwargs\n",
        "        for var, value in evidence_dict.items():\n",
        "            if var in f.domain:\n",
        "\n",
        "                # find the row index that corresponds to var = value\n",
        "                index = f.outcomeSpace[var].index(value)\n",
        "\n",
        "                # find the `var` axis and select only the row that corresponds to `value`\n",
        "                # on all other axes, select every row\n",
        "                slice_tuple = tuple(slice(index,index+1) if v == var else slice(None) for v in f.domain)\n",
        "                f.table = f.table[slice_tuple]\n",
        "\n",
        "                # modify the outcomeSpace to correspond to the changes just made to self.table\n",
        "                f.outcomeSpace[var] = (value,)\n",
        "        return f\n",
        "\n",
        "    def evidence2(self, **kwargs):\n",
        "        '''\n",
        "        Usage:  f.evidence(A='true', B='sunny'), where 'A' and 'B' are variable\n",
        "                names, and 'true' and 'sunny' are the observed outcomes.\n",
        "\n",
        "        Sets evidence by modifying the outcomeSpace\n",
        "        This function must be used to set evidence on all factors before joining,\n",
        "        because it removes the relevant variable from the factor.\n",
        "\n",
        "        Usage: fac.evidence(A='true',B='false')\n",
        "        This returns a factor which has set the variable 'A' to 'true' and 'B' to 'false'.\n",
        "        '''\n",
        "        f = self.copy()\n",
        "        evi = kwargs\n",
        "        indicies = tuple(self.outcomeSpace[v].index(evi[v]) if v in evi else slice(None) for v in self.domain)\n",
        "        f.table = f.table[indicies]\n",
        "        f.domain = tuple(v for v in f.domain if v not in evi)\n",
        "        return f\n",
        "\n",
        "    def marginalize(self, var):\n",
        "        '''\n",
        "        Usage: f.marginalize('B'), where 'B' is a variable name.\n",
        "        This function removes a variable from the domain, and sums over that variable in the table\n",
        "        '''\n",
        "\n",
        "        if var in self.domain:\n",
        "            # create new domain\n",
        "            new_dom = list(self.domain)\n",
        "            new_dom.remove(var)\n",
        "\n",
        "            # remove an axis of the table by summing it out\n",
        "            axis = self.domain.index(var)\n",
        "            new_table = np.sum(self.table, axis=axis)\n",
        "\n",
        "            # in the following line, `self.__class__` is the same as `Factor` (except it doesn't break things when subclassing)\n",
        "            return self.__class__(tuple(new_dom),self.outcomeSpace, new_table)\n",
        "        else:\n",
        "            return self\n",
        "\n",
        "\n",
        "    def maximize(self, var, return_prev=False):\n",
        "        '''\n",
        "        Usage: f.maximize('B'), where 'B' is a variable name.\n",
        "        This function removes a variable from the domain, and maximizes over that variable in the table\n",
        "        '''\n",
        "\n",
        "        # create new domain\n",
        "        new_dom = list(self.domain)\n",
        "        new_dom.remove(var)\n",
        "\n",
        "        # remove an axis of the table by summing it out\n",
        "        axis = self.domain.index(var)\n",
        "        new_table = np.max(self.table, axis=axis)\n",
        "\n",
        "        # in the following line, `self.__class__` is the same as `Factor` (except it doesn't break things when subclassing)\n",
        "        outputFactor = self.__class__(tuple(new_dom),self.outcomeSpace, new_table)\n",
        "\n",
        "        if return_prev:\n",
        "            prev = np.argmax(self.table, axis=axis)\n",
        "            return outputFactor, prev\n",
        "        else:\n",
        "            return outputFactor\n",
        "\n",
        "    def copy(self):\n",
        "        return copy.deepcopy(self)\n",
        "\n",
        "    def normalize(self):\n",
        "        '''\n",
        "        Usage: f.normalize()\n",
        "        Normalise the factor so that all probabilities add up to 1\n",
        "        '''\n",
        "        self.table = self.table/np.sum(self.table)\n",
        "        return self\n",
        "\n",
        "    def __mul__(self, other):\n",
        "        '''\n",
        "        Override the * operator, so that it can be used to join factors\n",
        "        '''\n",
        "        return self.join(other)\n",
        "\n",
        "    def __str__(self):\n",
        "        '''\n",
        "        This function determines the string representation of this object.\n",
        "        In this case, the function prints out a row for every possible instantiation\n",
        "        of the factor, along with the associated probability.\n",
        "        This function will be called whenever you print out this object, i.e.\n",
        "        a_prob = Factor(...)\n",
        "        print(a_prob)\n",
        "        '''\n",
        "        table = []\n",
        "        outcomeSpaces = [self.outcomeSpace[var] for var in self.domain]\n",
        "        for key in product(*outcomeSpaces):\n",
        "            row = list(key)\n",
        "            row.append(self[key])\n",
        "            table.append(row)\n",
        "        header = list(self.domain) + ['Pr']\n",
        "        return tabulate(table, headers=header, tablefmt='fancy_grid') + '\\n'"
      ]
    }
  ],
  "metadata": {
    "interpreter": {
      "hash": "31f2aee4e71d21fbe5cf8b01ff0e069b9275f58929596ceb00d14d90e3e16cd6"
    },
    "kernelspec": {
      "display_name": "Python 3 (ipykernel)",
      "language": "python",
      "name": "python3"
    },
    "language_info": {
      "codemirror_mode": {
        "name": "ipython",
        "version": 3
      },
      "file_extension": ".py",
      "mimetype": "text/x-python",
      "name": "python",
      "nbconvert_exporter": "python",
      "pygments_lexer": "ipython3",
      "version": "3.12.4"
    },
    "toc": {
      "colors": {
        "hover_highlight": "#DAA520",
        "navigate_num": "#000000",
        "navigate_text": "#333333",
        "running_highlight": "#FF0000",
        "selected_highlight": "#FFD700",
        "sidebar_border": "#EEEEEE",
        "wrapper_background": "#FFFFFF"
      },
      "moveMenuLeft": true,
      "nav_menu": {
        "height": "198px",
        "width": "252px"
      },
      "navigate_menu": true,
      "number_sections": true,
      "sideBar": true,
      "threshold": 4,
      "toc_cell": false,
      "toc_section_display": "block",
      "toc_window_display": true,
      "widenNotebook": false
    },
    "colab": {
      "provenance": [],
      "include_colab_link": true
    }
  },
  "nbformat": 4,
  "nbformat_minor": 0
}